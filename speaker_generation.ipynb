{
  "nbformat": 4,
  "nbformat_minor": 0,
  "metadata": {
    "colab": {
      "name": "Data_cleaning.ipynb",
      "provenance": [],
      "collapsed_sections": []
    },
    "kernelspec": {
      "name": "python3",
      "display_name": "Python 3"
    },
    "language_info": {
      "name": "python"
    },
    "accelerator": "TPU"
  },
  "cells": [
    {
      "cell_type": "code",
      "metadata": {
        "id": "EjuCm0o3hoLQ"
      },
      "source": [
        "import pandas as pd\n",
        "import numpy as np"
      ],
      "execution_count": 3,
      "outputs": []
    },
    {
      "cell_type": "markdown",
      "metadata": {
        "id": "t4mtaAnXyPZ8"
      },
      "source": [
        "## DATA CLEANING AND WRITING [DO NOT RUN THIS ANYMORE]"
      ]
    },
    {
      "cell_type": "code",
      "metadata": {
        "id": "Cok0ChuDkFa4"
      },
      "source": [
        "#Data Cleaning Notebook\n",
        "#Load speaker attributes parquet file\n",
        "dfattrib = pd.read_parquet(\"/content/drive/MyDrive/ADA/speaker_attributes.parquet/speaker_attributes.parquet\")\n",
        "\n",
        "#Load QID correspondance file and remove description column\n",
        "dflabels = pd.read_csv('/content/drive/MyDrive/ADA/wikidata_labels_descriptions_quotebank.csv.bz2', compression='bz2', index_col = 'QID')\n",
        "dflabels = dflabels.drop(['Description'], axis=1)\n"
      ],
      "execution_count": null,
      "outputs": []
    },
    {
      "cell_type": "code",
      "metadata": {
        "id": "egO7XxAlo9-_"
      },
      "source": [
        "#Drop\n",
        "dfattrib = dfattrib.drop(['aliases','lastrevid','US_congress_bio_ID','party','candidacy','type','label','ethnic_group'], axis=1) #Remove"
      ],
      "execution_count": null,
      "outputs": []
    },
    {
      "cell_type": "code",
      "metadata": {
        "id": "ZlqdFI6JdhwT"
      },
      "source": [
        "#Extract the first element only\n",
        "dfattrib[\"date_of_birth\"] = dfattrib[\"date_of_birth\"].apply(lambda x: x[0] if x is not None else x) \n",
        "dfattrib[\"gender\"] = dfattrib[\"gender\"].apply(lambda x: x[0] if x is not None else x) \n",
        "dfattrib[\"occupation\"] = dfattrib[\"occupation\"].apply(lambda x: x[0] if x is not None else x)\n",
        "dfattrib[\"nationality\"] = dfattrib[\"nationality\"].apply(lambda x: x[0] if x is not None else x) \n",
        "dfattrib[\"religion\"] = dfattrib[\"religion\"].apply(lambda x: x[0] if x is not None else x) \n",
        "dfattrib[\"academic_degree\"] = dfattrib[\"academic_degree\"].apply(lambda x: x[0] if x is not None else x) "
      ],
      "execution_count": null,
      "outputs": []
    },
    {
      "cell_type": "code",
      "metadata": {
        "id": "opx6CQA26y5W"
      },
      "source": [
        "#Missing labels\n",
        "Missing =  ['Q6296256','Q3268166','Q11815360','Q12014399','Q16287483','Q20432251','Q21550646','Q13365117','Q13424794','Q1248362','Q3186984','Q6859927','Q15145782','Q15991263','Q99753484','Q12455619','Q5568256','Q6363085','Q11819457','Q11819457','Q12334852','Q15145783','Q11815360']"
      ],
      "execution_count": null,
      "outputs": []
    },
    {
      "cell_type": "code",
      "metadata": {
        "id": "MXdFHxGD8Rza"
      },
      "source": [
        "#Replace missing\n",
        "dfattrib[\"occupation\"] = dfattrib[\"occupation\"].apply(lambda x: None if x in Missing else x) \n",
        "dfattrib[\"gender\"] = dfattrib[\"gender\"].apply(lambda x: None if x in Missing else x)\n",
        "dfattrib[\"religion\"] = dfattrib[\"religion\"].apply(lambda x: None if x in Missing else x) \n",
        "dfattrib[\"nationality\"] = dfattrib[\"nationality\"].apply(lambda x: None if x in Missing else x) \n",
        "dfattrib[\"academic_degree\"] = dfattrib[\"academic_degree\"].apply(lambda x: None if x in Missing else x) "
      ],
      "execution_count": null,
      "outputs": []
    },
    {
      "cell_type": "code",
      "metadata": {
        "id": "o9Y7CkRHk2Z5"
      },
      "source": [
        "#Change QIDs\n",
        "dfattrib[\"gender\"] = dfattrib[\"gender\"].apply(lambda x: dflabels.loc[x].item() if x is not None else x) \n",
        "dfattrib[\"nationality\"] = dfattrib[\"nationality\"].apply(lambda x: dflabels.loc[x].item() if x is not None else x)  \n",
        "dfattrib[\"religion\"] = dfattrib[\"religion\"].apply(lambda x: dflabels.loc[x].item() if x is not None else x)  \n",
        "dfattrib[\"occupation\"] = dfattrib[\"occupation\"].apply(lambda x: dflabels.loc[x].item() if x is not None else x)\n",
        "dfattrib[\"academic_degree\"] = dfattrib[\"academic_degree\"].apply(lambda x: dflabels.loc[x].item() if x is not None else x)   "
      ],
      "execution_count": null,
      "outputs": []
    },
    {
      "cell_type": "code",
      "metadata": {
        "id": "qKFFCXHMrK-t"
      },
      "source": [
        "dfattrib = dfattrib.set_index('id')"
      ],
      "execution_count": null,
      "outputs": []
    },
    {
      "cell_type": "code",
      "metadata": {
        "id": "oCGTou59Bo0c"
      },
      "source": [
        "#Clean Date of Birth\n",
        "dfattrib[\"date_of_birth\"] = dfattrib[\"date_of_birth\"].astype('string')\n",
        "birth_outlier = dfattrib[\"date_of_birth\"].iloc[4555848]\n",
        "dfattrib[\"date_of_birth\"] = dfattrib[\"date_of_birth\"].apply(lambda x: -9999 if not isinstance(x, str) else -9999 if x == birth_outlier else x)\n",
        "dfattrib[\"date_of_birth\"] = dfattrib[\"date_of_birth\"].apply(lambda x: int(x[1:5]) if isinstance(x, str)  else -9999)\n",
        "dfattrib[\"date_of_birth\"] = dfattrib[\"date_of_birth\"].astype(float)\n",
        "dfattrib = dfattrib[(dfattrib[\"date_of_birth\"]>1928) & (dfattrib[\"date_of_birth\"]<2016)]"
      ],
      "execution_count": null,
      "outputs": []
    },
    {
      "cell_type": "code",
      "metadata": {
        "id": "rhynw15v_RSu"
      },
      "source": [
        "dfattrib.to_csv(\"/content/drive/MyDrive/ADA/df_speaker_raw.csv.gzip\", header=True, index=True, compression=\"gzip\")"
      ],
      "execution_count": null,
      "outputs": []
    },
    {
      "cell_type": "markdown",
      "metadata": {
        "id": "Mpwa_c7O_OBA"
      },
      "source": [
        "## Processing"
      ]
    },
    {
      "cell_type": "code",
      "metadata": {
        "id": "DAazAzXn_3K2"
      },
      "source": [
        "df = pd.read_csv('/content/drive/MyDrive/ADA/df_speaker_raw.csv.gzip', compression=\"gzip\")"
      ],
      "execution_count": null,
      "outputs": []
    },
    {
      "cell_type": "code",
      "metadata": {
        "id": "H77qWyWY6ZMg"
      },
      "source": [
        "#Fix genders\n",
        "Male = ['male']\n",
        "Female = ['female']\n",
        "All = Male + Female\n",
        "df[\"gender\"] = df[\"gender\"].apply(lambda x: x if x is not None else x)\n",
        "df[\"gender\"] = df[\"gender\"].apply(lambda x: 'Male' if x in Male else 'Female' if x in Female else 'Other' if (x not in All and not None) else x)"
      ],
      "execution_count": null,
      "outputs": []
    },
    {
      "cell_type": "code",
      "metadata": {
        "id": "Df10Rr0r96UU"
      },
      "source": [
        "#Fix academic\n",
        "Master = ['master', 'masters']\n",
        "Bachelor = ['bachelor', 'bachelors']\n",
        "Doctorate = ['doctorate','doctor','doktor']\n",
        "All = ['master', 'masters', 'bachelor', 'bachelors', 'doctorate','doctor','doktor']\n",
        "df[\"academic_degree\"] = df[\"academic_degree\"].apply(lambda x: None if not isinstance(x,str) else 'Master' if any(ext in x.lower() for ext in Master) else 'Bachelor' if any(ext in x.lower() for ext in Bachelor) else 'Doctorate' if any(ext in x.lower() for ext in Doctorate) else 'Other' if not any(ext in x.lower() for ext in All) else x)"
      ],
      "execution_count": null,
      "outputs": []
    },
    {
      "cell_type": "code",
      "metadata": {
        "id": "J3vif8chM31c"
      },
      "source": [
        "#Fix religion\n",
        "Christians = ['church', 'luther', 'anglican', 'catho', 'protest', 'presby', 'calvinism', 'purita', 'christ']\n",
        "Muslims = ['sunni', 'chiisme', 'shia', 'islam', 'shiisme', 'druz']\n",
        "Jewish = ['jewish','synago','jew', 'hebrew', 'juda', 'hebr', 'israel', 'yiddish']\n",
        "Hindus = ['hind', 'budd', 'shiva']\n",
        "All = ['church', 'luther', 'anglican', 'catho', 'protest', 'presby', 'calvinism', 'purita', 'christ', 'sunni', 'chiisme', 'shia', 'islam', 'shiisme', 'druz', 'jewish','synago','jew', 'hebrew', 'juda', 'hebr', 'israel', 'yiddish', 'hind', 'budd', 'shiva']\n",
        "df[\"religion\"] = df[\"religion\"].apply(lambda x: None if not isinstance(x,str) else 'Christian' if any(ext in x.lower() for ext in Christians) else 'Muslim' if any(ext in x.lower() for ext in Muslims) else 'Jewish' if any(ext in x.lower() for ext in Jewish) else 'Hindus' if any(ext in x.lower() for ext in Hindus) else 'Other' if not any(ext in x.lower() for ext in All) else x)"
      ],
      "execution_count": null,
      "outputs": []
    },
    {
      "cell_type": "code",
      "metadata": {
        "id": "2jqa2di-LoXv"
      },
      "source": [
        "#Fix academic\n",
        "Sports = ['coach','ball','athl','weight','sport','player','swimmer','skier','racing']\n",
        "Arts = ['actor','director','author','pres','anch','arch','art','danc','sing','act','paint','composer','pianist','violinist','guitarist','drummer','music','art','write','wright','comed','film','poet','chore','graph','edit','prod','sculpt','hist','geo','journ','law','judge','speak','sax','sing','dance','draw','book','lyric','design']\n",
        "Sciences = ['novel','philo','scien','research','engin','tech','med','nurse','phys','chem','mech','elec','psych','prof','math','bio','schol','surgeon','lab','botan','teacher','university']\n",
        "Politics = ['dipl','polit','ruler','minister','dep','president','gov']\n",
        "Military = ['sold','milit','gener','armed','army','war','force']\n",
        "Religion = ['catho','priest','imam','church','buddh','pastor','mission','theolog','clergy','christian','muslim','jewish','rabbi','monk']\n",
        "Business = ['econ','business','entrepr','manager','exec']\n",
        "All = Sports + Arts + Sciences + Politics + Military + Religion + Business\n",
        "df[\"occupation\"] = df[\"occupation\"].apply(lambda x: None if not isinstance(x,str) else 'Sports' if any(ext in x.lower() for ext in Sports) else 'Arts' if any(ext in x.lower() for ext in Arts) else 'Politics' if any(ext in x.lower() for ext in Politics) else 'Military' if any(ext in x.lower() for ext in Military) else 'Sciences' if any(ext in x.lower() for ext in Sciences) else 'Religion' if any(ext in x.lower() for ext in Religion) else 'Business' if any(ext in x.lower() for ext in Business) else 'Other' if not any(ext in x.lower() for ext in All) else x)"
      ],
      "execution_count": null,
      "outputs": []
    },
    {
      "cell_type": "code",
      "metadata": {
        "colab": {
          "base_uri": "https://localhost:8080/",
          "height": 206
        },
        "id": "2Tkui9LibEfL",
        "outputId": "ae4050c5-731c-40d2-c587-eb5cfbd45308"
      },
      "source": [
        "df.head(5)"
      ],
      "execution_count": null,
      "outputs": [
        {
          "output_type": "execute_result",
          "data": {
            "text/html": [
              "<div>\n",
              "<style scoped>\n",
              "    .dataframe tbody tr th:only-of-type {\n",
              "        vertical-align: middle;\n",
              "    }\n",
              "\n",
              "    .dataframe tbody tr th {\n",
              "        vertical-align: top;\n",
              "    }\n",
              "\n",
              "    .dataframe thead th {\n",
              "        text-align: right;\n",
              "    }\n",
              "</style>\n",
              "<table border=\"1\" class=\"dataframe\">\n",
              "  <thead>\n",
              "    <tr style=\"text-align: right;\">\n",
              "      <th></th>\n",
              "      <th>id</th>\n",
              "      <th>date_of_birth</th>\n",
              "      <th>nationality</th>\n",
              "      <th>gender</th>\n",
              "      <th>occupation</th>\n",
              "      <th>academic_degree</th>\n",
              "      <th>religion</th>\n",
              "    </tr>\n",
              "  </thead>\n",
              "  <tbody>\n",
              "    <tr>\n",
              "      <th>0</th>\n",
              "      <td>Q42</td>\n",
              "      <td>1952.0</td>\n",
              "      <td>United Kingdom</td>\n",
              "      <td>Male</td>\n",
              "      <td>Arts</td>\n",
              "      <td>None</td>\n",
              "      <td>None</td>\n",
              "    </tr>\n",
              "    <tr>\n",
              "      <th>1</th>\n",
              "      <td>Q207</td>\n",
              "      <td>1946.0</td>\n",
              "      <td>United States of America</td>\n",
              "      <td>Male</td>\n",
              "      <td>Politics</td>\n",
              "      <td>None</td>\n",
              "      <td>Christian</td>\n",
              "    </tr>\n",
              "    <tr>\n",
              "      <th>2</th>\n",
              "      <td>Q633</td>\n",
              "      <td>1945.0</td>\n",
              "      <td>Canada</td>\n",
              "      <td>Male</td>\n",
              "      <td>Arts</td>\n",
              "      <td>None</td>\n",
              "      <td>None</td>\n",
              "    </tr>\n",
              "    <tr>\n",
              "      <th>3</th>\n",
              "      <td>Q640</td>\n",
              "      <td>1969.0</td>\n",
              "      <td>Germany</td>\n",
              "      <td>Male</td>\n",
              "      <td>Arts</td>\n",
              "      <td>None</td>\n",
              "      <td>None</td>\n",
              "    </tr>\n",
              "    <tr>\n",
              "      <th>4</th>\n",
              "      <td>Q853</td>\n",
              "      <td>1932.0</td>\n",
              "      <td>Soviet Union</td>\n",
              "      <td>Male</td>\n",
              "      <td>Arts</td>\n",
              "      <td>None</td>\n",
              "      <td>Christian</td>\n",
              "    </tr>\n",
              "  </tbody>\n",
              "</table>\n",
              "</div>"
            ],
            "text/plain": [
              "     id  date_of_birth  ... academic_degree   religion\n",
              "0   Q42         1952.0  ...            None       None\n",
              "1  Q207         1946.0  ...            None  Christian\n",
              "2  Q633         1945.0  ...            None       None\n",
              "3  Q640         1969.0  ...            None       None\n",
              "4  Q853         1932.0  ...            None  Christian\n",
              "\n",
              "[5 rows x 7 columns]"
            ]
          },
          "metadata": {},
          "execution_count": 16
        }
      ]
    },
    {
      "cell_type": "code",
      "metadata": {
        "id": "PGpT6eVsAZI-"
      },
      "source": [
        "df.to_csv(\"/content/drive/MyDrive/ADA/df_speaker_cooked.csv.gzip\", header=True, index=True, compression=\"gzip\")"
      ],
      "execution_count": null,
      "outputs": []
    },
    {
      "cell_type": "markdown",
      "metadata": {
        "id": "l-N1HKR4WAvh"
      },
      "source": [
        "### Check the output file"
      ]
    },
    {
      "cell_type": "code",
      "metadata": {
        "id": "cypEIwwiWEi0"
      },
      "source": [
        "df_cooked = pd.read_csv('/content/drive/MyDrive/ADA/df_speaker_cooked.csv.gzip', compression=\"gzip\")\n",
        "df_raw = pd.read_csv('/content/drive/MyDrive/ADA/df_speaker_raw.csv.gzip', compression=\"gzip\")"
      ],
      "execution_count": 4,
      "outputs": []
    },
    {
      "cell_type": "code",
      "metadata": {
        "colab": {
          "base_uri": "https://localhost:8080/",
          "height": 206
        },
        "id": "zwCBGBScAjj4",
        "outputId": "5dac88a6-953b-4049-ed3d-16273670f8d1"
      },
      "source": [
        "df_raw.head(5)"
      ],
      "execution_count": 5,
      "outputs": [
        {
          "output_type": "execute_result",
          "data": {
            "text/html": [
              "\n",
              "  <div id=\"df-97374114-05cc-4c34-a657-aea5166ca75c\">\n",
              "    <div class=\"colab-df-container\">\n",
              "      <div>\n",
              "<style scoped>\n",
              "    .dataframe tbody tr th:only-of-type {\n",
              "        vertical-align: middle;\n",
              "    }\n",
              "\n",
              "    .dataframe tbody tr th {\n",
              "        vertical-align: top;\n",
              "    }\n",
              "\n",
              "    .dataframe thead th {\n",
              "        text-align: right;\n",
              "    }\n",
              "</style>\n",
              "<table border=\"1\" class=\"dataframe\">\n",
              "  <thead>\n",
              "    <tr style=\"text-align: right;\">\n",
              "      <th></th>\n",
              "      <th>id</th>\n",
              "      <th>date_of_birth</th>\n",
              "      <th>nationality</th>\n",
              "      <th>gender</th>\n",
              "      <th>occupation</th>\n",
              "      <th>academic_degree</th>\n",
              "      <th>religion</th>\n",
              "    </tr>\n",
              "  </thead>\n",
              "  <tbody>\n",
              "    <tr>\n",
              "      <th>0</th>\n",
              "      <td>Q42</td>\n",
              "      <td>1952.0</td>\n",
              "      <td>United Kingdom</td>\n",
              "      <td>male</td>\n",
              "      <td>playwright</td>\n",
              "      <td>NaN</td>\n",
              "      <td>NaN</td>\n",
              "    </tr>\n",
              "    <tr>\n",
              "      <th>1</th>\n",
              "      <td>Q207</td>\n",
              "      <td>1946.0</td>\n",
              "      <td>United States of America</td>\n",
              "      <td>male</td>\n",
              "      <td>politician</td>\n",
              "      <td>NaN</td>\n",
              "      <td>United Methodist Church</td>\n",
              "    </tr>\n",
              "    <tr>\n",
              "      <th>2</th>\n",
              "      <td>Q633</td>\n",
              "      <td>1945.0</td>\n",
              "      <td>Canada</td>\n",
              "      <td>male</td>\n",
              "      <td>singer</td>\n",
              "      <td>NaN</td>\n",
              "      <td>NaN</td>\n",
              "    </tr>\n",
              "    <tr>\n",
              "      <th>3</th>\n",
              "      <td>Q640</td>\n",
              "      <td>1969.0</td>\n",
              "      <td>Germany</td>\n",
              "      <td>male</td>\n",
              "      <td>photographer</td>\n",
              "      <td>NaN</td>\n",
              "      <td>NaN</td>\n",
              "    </tr>\n",
              "    <tr>\n",
              "      <th>4</th>\n",
              "      <td>Q853</td>\n",
              "      <td>1932.0</td>\n",
              "      <td>Soviet Union</td>\n",
              "      <td>male</td>\n",
              "      <td>film director</td>\n",
              "      <td>NaN</td>\n",
              "      <td>Eastern Orthodox Church</td>\n",
              "    </tr>\n",
              "  </tbody>\n",
              "</table>\n",
              "</div>\n",
              "      <button class=\"colab-df-convert\" onclick=\"convertToInteractive('df-97374114-05cc-4c34-a657-aea5166ca75c')\"\n",
              "              title=\"Convert this dataframe to an interactive table.\"\n",
              "              style=\"display:none;\">\n",
              "        \n",
              "  <svg xmlns=\"http://www.w3.org/2000/svg\" height=\"24px\"viewBox=\"0 0 24 24\"\n",
              "       width=\"24px\">\n",
              "    <path d=\"M0 0h24v24H0V0z\" fill=\"none\"/>\n",
              "    <path d=\"M18.56 5.44l.94 2.06.94-2.06 2.06-.94-2.06-.94-.94-2.06-.94 2.06-2.06.94zm-11 1L8.5 8.5l.94-2.06 2.06-.94-2.06-.94L8.5 2.5l-.94 2.06-2.06.94zm10 10l.94 2.06.94-2.06 2.06-.94-2.06-.94-.94-2.06-.94 2.06-2.06.94z\"/><path d=\"M17.41 7.96l-1.37-1.37c-.4-.4-.92-.59-1.43-.59-.52 0-1.04.2-1.43.59L10.3 9.45l-7.72 7.72c-.78.78-.78 2.05 0 2.83L4 21.41c.39.39.9.59 1.41.59.51 0 1.02-.2 1.41-.59l7.78-7.78 2.81-2.81c.8-.78.8-2.07 0-2.86zM5.41 20L4 18.59l7.72-7.72 1.47 1.35L5.41 20z\"/>\n",
              "  </svg>\n",
              "      </button>\n",
              "      \n",
              "  <style>\n",
              "    .colab-df-container {\n",
              "      display:flex;\n",
              "      flex-wrap:wrap;\n",
              "      gap: 12px;\n",
              "    }\n",
              "\n",
              "    .colab-df-convert {\n",
              "      background-color: #E8F0FE;\n",
              "      border: none;\n",
              "      border-radius: 50%;\n",
              "      cursor: pointer;\n",
              "      display: none;\n",
              "      fill: #1967D2;\n",
              "      height: 32px;\n",
              "      padding: 0 0 0 0;\n",
              "      width: 32px;\n",
              "    }\n",
              "\n",
              "    .colab-df-convert:hover {\n",
              "      background-color: #E2EBFA;\n",
              "      box-shadow: 0px 1px 2px rgba(60, 64, 67, 0.3), 0px 1px 3px 1px rgba(60, 64, 67, 0.15);\n",
              "      fill: #174EA6;\n",
              "    }\n",
              "\n",
              "    [theme=dark] .colab-df-convert {\n",
              "      background-color: #3B4455;\n",
              "      fill: #D2E3FC;\n",
              "    }\n",
              "\n",
              "    [theme=dark] .colab-df-convert:hover {\n",
              "      background-color: #434B5C;\n",
              "      box-shadow: 0px 1px 3px 1px rgba(0, 0, 0, 0.15);\n",
              "      filter: drop-shadow(0px 1px 2px rgba(0, 0, 0, 0.3));\n",
              "      fill: #FFFFFF;\n",
              "    }\n",
              "  </style>\n",
              "\n",
              "      <script>\n",
              "        const buttonEl =\n",
              "          document.querySelector('#df-97374114-05cc-4c34-a657-aea5166ca75c button.colab-df-convert');\n",
              "        buttonEl.style.display =\n",
              "          google.colab.kernel.accessAllowed ? 'block' : 'none';\n",
              "\n",
              "        async function convertToInteractive(key) {\n",
              "          const element = document.querySelector('#df-97374114-05cc-4c34-a657-aea5166ca75c');\n",
              "          const dataTable =\n",
              "            await google.colab.kernel.invokeFunction('convertToInteractive',\n",
              "                                                     [key], {});\n",
              "          if (!dataTable) return;\n",
              "\n",
              "          const docLinkHtml = 'Like what you see? Visit the ' +\n",
              "            '<a target=\"_blank\" href=https://colab.research.google.com/notebooks/data_table.ipynb>data table notebook</a>'\n",
              "            + ' to learn more about interactive tables.';\n",
              "          element.innerHTML = '';\n",
              "          dataTable['output_type'] = 'display_data';\n",
              "          await google.colab.output.renderOutput(dataTable, element);\n",
              "          const docLink = document.createElement('div');\n",
              "          docLink.innerHTML = docLinkHtml;\n",
              "          element.appendChild(docLink);\n",
              "        }\n",
              "      </script>\n",
              "    </div>\n",
              "  </div>\n",
              "  "
            ],
            "text/plain": [
              "     id  date_of_birth  ... academic_degree                 religion\n",
              "0   Q42         1952.0  ...             NaN                      NaN\n",
              "1  Q207         1946.0  ...             NaN  United Methodist Church\n",
              "2  Q633         1945.0  ...             NaN                      NaN\n",
              "3  Q640         1969.0  ...             NaN                      NaN\n",
              "4  Q853         1932.0  ...             NaN  Eastern Orthodox Church\n",
              "\n",
              "[5 rows x 7 columns]"
            ]
          },
          "metadata": {},
          "execution_count": 5
        }
      ]
    },
    {
      "cell_type": "code",
      "metadata": {
        "id": "c1JQmLMKVdt0",
        "colab": {
          "base_uri": "https://localhost:8080/",
          "height": 206
        },
        "outputId": "d9554fab-e5d0-4e6b-ced2-d44f53be9de3"
      },
      "source": [
        "df_cooked.head(5)"
      ],
      "execution_count": 6,
      "outputs": [
        {
          "output_type": "execute_result",
          "data": {
            "text/html": [
              "\n",
              "  <div id=\"df-12ae1afb-cf95-4bbb-8645-2e3366ebd664\">\n",
              "    <div class=\"colab-df-container\">\n",
              "      <div>\n",
              "<style scoped>\n",
              "    .dataframe tbody tr th:only-of-type {\n",
              "        vertical-align: middle;\n",
              "    }\n",
              "\n",
              "    .dataframe tbody tr th {\n",
              "        vertical-align: top;\n",
              "    }\n",
              "\n",
              "    .dataframe thead th {\n",
              "        text-align: right;\n",
              "    }\n",
              "</style>\n",
              "<table border=\"1\" class=\"dataframe\">\n",
              "  <thead>\n",
              "    <tr style=\"text-align: right;\">\n",
              "      <th></th>\n",
              "      <th>Unnamed: 0</th>\n",
              "      <th>id</th>\n",
              "      <th>date_of_birth</th>\n",
              "      <th>nationality</th>\n",
              "      <th>gender</th>\n",
              "      <th>occupation</th>\n",
              "      <th>academic_degree</th>\n",
              "      <th>religion</th>\n",
              "    </tr>\n",
              "  </thead>\n",
              "  <tbody>\n",
              "    <tr>\n",
              "      <th>0</th>\n",
              "      <td>0</td>\n",
              "      <td>Q42</td>\n",
              "      <td>1952.0</td>\n",
              "      <td>United Kingdom</td>\n",
              "      <td>Male</td>\n",
              "      <td>Arts</td>\n",
              "      <td>NaN</td>\n",
              "      <td>NaN</td>\n",
              "    </tr>\n",
              "    <tr>\n",
              "      <th>1</th>\n",
              "      <td>1</td>\n",
              "      <td>Q207</td>\n",
              "      <td>1946.0</td>\n",
              "      <td>United States of America</td>\n",
              "      <td>Male</td>\n",
              "      <td>Politics</td>\n",
              "      <td>NaN</td>\n",
              "      <td>Christian</td>\n",
              "    </tr>\n",
              "    <tr>\n",
              "      <th>2</th>\n",
              "      <td>2</td>\n",
              "      <td>Q633</td>\n",
              "      <td>1945.0</td>\n",
              "      <td>Canada</td>\n",
              "      <td>Male</td>\n",
              "      <td>Arts</td>\n",
              "      <td>NaN</td>\n",
              "      <td>NaN</td>\n",
              "    </tr>\n",
              "    <tr>\n",
              "      <th>3</th>\n",
              "      <td>3</td>\n",
              "      <td>Q640</td>\n",
              "      <td>1969.0</td>\n",
              "      <td>Germany</td>\n",
              "      <td>Male</td>\n",
              "      <td>Arts</td>\n",
              "      <td>NaN</td>\n",
              "      <td>NaN</td>\n",
              "    </tr>\n",
              "    <tr>\n",
              "      <th>4</th>\n",
              "      <td>4</td>\n",
              "      <td>Q853</td>\n",
              "      <td>1932.0</td>\n",
              "      <td>Soviet Union</td>\n",
              "      <td>Male</td>\n",
              "      <td>Arts</td>\n",
              "      <td>NaN</td>\n",
              "      <td>Christian</td>\n",
              "    </tr>\n",
              "  </tbody>\n",
              "</table>\n",
              "</div>\n",
              "      <button class=\"colab-df-convert\" onclick=\"convertToInteractive('df-12ae1afb-cf95-4bbb-8645-2e3366ebd664')\"\n",
              "              title=\"Convert this dataframe to an interactive table.\"\n",
              "              style=\"display:none;\">\n",
              "        \n",
              "  <svg xmlns=\"http://www.w3.org/2000/svg\" height=\"24px\"viewBox=\"0 0 24 24\"\n",
              "       width=\"24px\">\n",
              "    <path d=\"M0 0h24v24H0V0z\" fill=\"none\"/>\n",
              "    <path d=\"M18.56 5.44l.94 2.06.94-2.06 2.06-.94-2.06-.94-.94-2.06-.94 2.06-2.06.94zm-11 1L8.5 8.5l.94-2.06 2.06-.94-2.06-.94L8.5 2.5l-.94 2.06-2.06.94zm10 10l.94 2.06.94-2.06 2.06-.94-2.06-.94-.94-2.06-.94 2.06-2.06.94z\"/><path d=\"M17.41 7.96l-1.37-1.37c-.4-.4-.92-.59-1.43-.59-.52 0-1.04.2-1.43.59L10.3 9.45l-7.72 7.72c-.78.78-.78 2.05 0 2.83L4 21.41c.39.39.9.59 1.41.59.51 0 1.02-.2 1.41-.59l7.78-7.78 2.81-2.81c.8-.78.8-2.07 0-2.86zM5.41 20L4 18.59l7.72-7.72 1.47 1.35L5.41 20z\"/>\n",
              "  </svg>\n",
              "      </button>\n",
              "      \n",
              "  <style>\n",
              "    .colab-df-container {\n",
              "      display:flex;\n",
              "      flex-wrap:wrap;\n",
              "      gap: 12px;\n",
              "    }\n",
              "\n",
              "    .colab-df-convert {\n",
              "      background-color: #E8F0FE;\n",
              "      border: none;\n",
              "      border-radius: 50%;\n",
              "      cursor: pointer;\n",
              "      display: none;\n",
              "      fill: #1967D2;\n",
              "      height: 32px;\n",
              "      padding: 0 0 0 0;\n",
              "      width: 32px;\n",
              "    }\n",
              "\n",
              "    .colab-df-convert:hover {\n",
              "      background-color: #E2EBFA;\n",
              "      box-shadow: 0px 1px 2px rgba(60, 64, 67, 0.3), 0px 1px 3px 1px rgba(60, 64, 67, 0.15);\n",
              "      fill: #174EA6;\n",
              "    }\n",
              "\n",
              "    [theme=dark] .colab-df-convert {\n",
              "      background-color: #3B4455;\n",
              "      fill: #D2E3FC;\n",
              "    }\n",
              "\n",
              "    [theme=dark] .colab-df-convert:hover {\n",
              "      background-color: #434B5C;\n",
              "      box-shadow: 0px 1px 3px 1px rgba(0, 0, 0, 0.15);\n",
              "      filter: drop-shadow(0px 1px 2px rgba(0, 0, 0, 0.3));\n",
              "      fill: #FFFFFF;\n",
              "    }\n",
              "  </style>\n",
              "\n",
              "      <script>\n",
              "        const buttonEl =\n",
              "          document.querySelector('#df-12ae1afb-cf95-4bbb-8645-2e3366ebd664 button.colab-df-convert');\n",
              "        buttonEl.style.display =\n",
              "          google.colab.kernel.accessAllowed ? 'block' : 'none';\n",
              "\n",
              "        async function convertToInteractive(key) {\n",
              "          const element = document.querySelector('#df-12ae1afb-cf95-4bbb-8645-2e3366ebd664');\n",
              "          const dataTable =\n",
              "            await google.colab.kernel.invokeFunction('convertToInteractive',\n",
              "                                                     [key], {});\n",
              "          if (!dataTable) return;\n",
              "\n",
              "          const docLinkHtml = 'Like what you see? Visit the ' +\n",
              "            '<a target=\"_blank\" href=https://colab.research.google.com/notebooks/data_table.ipynb>data table notebook</a>'\n",
              "            + ' to learn more about interactive tables.';\n",
              "          element.innerHTML = '';\n",
              "          dataTable['output_type'] = 'display_data';\n",
              "          await google.colab.output.renderOutput(dataTable, element);\n",
              "          const docLink = document.createElement('div');\n",
              "          docLink.innerHTML = docLinkHtml;\n",
              "          element.appendChild(docLink);\n",
              "        }\n",
              "      </script>\n",
              "    </div>\n",
              "  </div>\n",
              "  "
            ],
            "text/plain": [
              "   Unnamed: 0    id  date_of_birth  ... occupation academic_degree   religion\n",
              "0           0   Q42         1952.0  ...       Arts             NaN        NaN\n",
              "1           1  Q207         1946.0  ...   Politics             NaN  Christian\n",
              "2           2  Q633         1945.0  ...       Arts             NaN        NaN\n",
              "3           3  Q640         1969.0  ...       Arts             NaN        NaN\n",
              "4           4  Q853         1932.0  ...       Arts             NaN  Christian\n",
              "\n",
              "[5 rows x 8 columns]"
            ]
          },
          "metadata": {},
          "execution_count": 6
        }
      ]
    }
  ]
}