{
 "cells": [
  {
   "cell_type": "markdown",
   "id": "d9628f57",
   "metadata": {},
   "source": [
    "# Data merging + Feature selection + Model"
   ]
  },
  {
   "cell_type": "code",
   "execution_count": 3,
   "id": "797d577b",
   "metadata": {},
   "outputs": [],
   "source": [
    "import pandas as pd\n",
    "import numpy as np\n",
    "from os.path import join\n",
    "import matplotlib.pyplot as plt\n",
    "import seaborn as sns\n",
    "\n",
    "from sklearn.ensemble import ExtraTreesClassifier\n",
    "from sklearn.feature_selection import SelectFromModel\n",
    "from sklearn import datasets, cluster\n",
    "from sklearn.ensemble import GradientBoostingRegressor\n",
    "from sklearn.model_selection import train_test_split\n",
    "from sklearn.tree import DecisionTreeRegressor\n",
    "from sklearn.metrics import r2_score\n",
    "from sklearn.linear_model import LogisticRegression\n",
    "\n",
    "from utils import *\n",
    "from feature_selection import *"
   ]
  },
  {
   "cell_type": "markdown",
   "id": "2a70c25f",
   "metadata": {},
   "source": [
    "## Data loading"
   ]
  },
  {
   "cell_type": "markdown",
   "id": "e160bed2",
   "metadata": {},
   "source": [
    "### Speaker features"
   ]
  },
  {
   "cell_type": "code",
   "execution_count": 4,
   "id": "104f8303",
   "metadata": {},
   "outputs": [
    {
     "data": {
      "text/plain": [
       "(2654370, 7)"
      ]
     },
     "execution_count": 4,
     "metadata": {},
     "output_type": "execute_result"
    }
   ],
   "source": [
    "dir_path = '../../data/speaker_features'\n",
    "speaker_filename = 'df_speaker_cooked.csv.gzip'\n",
    "\n",
    "df_speaker = pd.read_csv(join(dir_path, speaker_filename), compression='gzip')\n",
    "df_speaker.drop(columns=['Unnamed: 0'], inplace=True)\n",
    "df_speaker.shape"
   ]
  },
  {
   "cell_type": "code",
   "execution_count": 3,
   "id": "b7e21ae7",
   "metadata": {},
   "outputs": [
    {
     "data": {
      "text/html": [
       "<div>\n",
       "<style scoped>\n",
       "    .dataframe tbody tr th:only-of-type {\n",
       "        vertical-align: middle;\n",
       "    }\n",
       "\n",
       "    .dataframe tbody tr th {\n",
       "        vertical-align: top;\n",
       "    }\n",
       "\n",
       "    .dataframe thead th {\n",
       "        text-align: right;\n",
       "    }\n",
       "</style>\n",
       "<table border=\"1\" class=\"dataframe\">\n",
       "  <thead>\n",
       "    <tr style=\"text-align: right;\">\n",
       "      <th></th>\n",
       "      <th>id</th>\n",
       "      <th>date_of_birth</th>\n",
       "      <th>nationality</th>\n",
       "      <th>gender</th>\n",
       "      <th>occupation</th>\n",
       "      <th>academic_degree</th>\n",
       "      <th>religion</th>\n",
       "    </tr>\n",
       "  </thead>\n",
       "  <tbody>\n",
       "    <tr>\n",
       "      <th>0</th>\n",
       "      <td>Q42</td>\n",
       "      <td>1952.0</td>\n",
       "      <td>United Kingdom</td>\n",
       "      <td>Male</td>\n",
       "      <td>Arts</td>\n",
       "      <td>NaN</td>\n",
       "      <td>NaN</td>\n",
       "    </tr>\n",
       "    <tr>\n",
       "      <th>1</th>\n",
       "      <td>Q207</td>\n",
       "      <td>1946.0</td>\n",
       "      <td>United States of America</td>\n",
       "      <td>Male</td>\n",
       "      <td>Politics</td>\n",
       "      <td>NaN</td>\n",
       "      <td>Christian</td>\n",
       "    </tr>\n",
       "    <tr>\n",
       "      <th>2</th>\n",
       "      <td>Q633</td>\n",
       "      <td>1945.0</td>\n",
       "      <td>Canada</td>\n",
       "      <td>Male</td>\n",
       "      <td>Arts</td>\n",
       "      <td>NaN</td>\n",
       "      <td>NaN</td>\n",
       "    </tr>\n",
       "    <tr>\n",
       "      <th>3</th>\n",
       "      <td>Q640</td>\n",
       "      <td>1969.0</td>\n",
       "      <td>Germany</td>\n",
       "      <td>Male</td>\n",
       "      <td>Arts</td>\n",
       "      <td>NaN</td>\n",
       "      <td>NaN</td>\n",
       "    </tr>\n",
       "    <tr>\n",
       "      <th>4</th>\n",
       "      <td>Q853</td>\n",
       "      <td>1932.0</td>\n",
       "      <td>Soviet Union</td>\n",
       "      <td>Male</td>\n",
       "      <td>Arts</td>\n",
       "      <td>NaN</td>\n",
       "      <td>Christian</td>\n",
       "    </tr>\n",
       "  </tbody>\n",
       "</table>\n",
       "</div>"
      ],
      "text/plain": [
       "     id  date_of_birth               nationality gender occupation  \\\n",
       "0   Q42         1952.0            United Kingdom   Male       Arts   \n",
       "1  Q207         1946.0  United States of America   Male   Politics   \n",
       "2  Q633         1945.0                    Canada   Male       Arts   \n",
       "3  Q640         1969.0                   Germany   Male       Arts   \n",
       "4  Q853         1932.0              Soviet Union   Male       Arts   \n",
       "\n",
       "  academic_degree   religion  \n",
       "0             NaN        NaN  \n",
       "1             NaN  Christian  \n",
       "2             NaN        NaN  \n",
       "3             NaN        NaN  \n",
       "4             NaN  Christian  "
      ]
     },
     "execution_count": 3,
     "metadata": {},
     "output_type": "execute_result"
    }
   ],
   "source": [
    "df_speaker.head(5)"
   ]
  },
  {
   "cell_type": "code",
   "execution_count": 67,
   "id": "098d39e9",
   "metadata": {},
   "outputs": [
    {
     "data": {
      "text/plain": [
       "2654370"
      ]
     },
     "execution_count": 67,
     "metadata": {},
     "output_type": "execute_result"
    }
   ],
   "source": [
    "len(df_speaker.id.unique())"
   ]
  },
  {
   "cell_type": "markdown",
   "id": "c803d719",
   "metadata": {},
   "source": [
    "### Language features"
   ]
  },
  {
   "cell_type": "code",
   "execution_count": 5,
   "id": "650086c2",
   "metadata": {},
   "outputs": [
    {
     "name": "stdout",
     "output_type": "stream",
     "text": [
      "0 (446142, 31)\n",
      "1 (446168, 31)\n",
      "2 (446053, 31)\n",
      "3 (446307, 31)\n",
      "4 (445835, 31)\n",
      "5 (10867, 31)\n"
     ]
    }
   ],
   "source": [
    "dir_path = 'D:/ADA_quotebank/language_features'\n",
    "filename = 'quotes-2020_with_language_feats.csv' # change years\n",
    "outname = \"merged_data_2020.csv.gzip\" # change years\n",
    "\n",
    "chunksize = 500000\n",
    "df = pd.DataFrame()\n",
    "flag = True\n",
    "save = True\n",
    "i = 0\n",
    "\n",
    "for chunk in pd.read_csv(join(dir_path, filename), chunksize=chunksize, usecols=dtypes.keys(), dtype='O'):\n",
    "    df = merge(chunk, df_speaker)\n",
    "    if save:\n",
    "        if flag:\n",
    "            df.to_csv(join(dir_path, outname), index=False, compression=\"gzip\", mode='a')\n",
    "            flag = False\n",
    "        df.to_csv(join(dir_path, outname), index=False, compression=\"gzip\", mode='a', header=False)\n",
    "    print(i, df.shape)\n",
    "    i += 1"
   ]
  },
  {
   "cell_type": "code",
   "execution_count": 63,
   "id": "aca08ed9",
   "metadata": {},
   "outputs": [
    {
     "data": {
      "text/plain": [
       "(1000000, 32)"
      ]
     },
     "execution_count": 63,
     "metadata": {},
     "output_type": "execute_result"
    }
   ],
   "source": [
    "# Check files were saved\n",
    "dir_path = 'D:/ADA_quotebank/language_features'\n",
    "filename = \"merged_data_2015.csv.gzip\"\n",
    "\n",
    "chunksize = 1000000\n",
    "for chunk in pd.read_csv(join(dir_path, filename), chunksize=chunksize, compression='gzip'):\n",
    "    df = chunk\n",
    "    break\n",
    "    \n",
    "df.shape"
   ]
  },
  {
   "cell_type": "code",
   "execution_count": 11,
   "id": "d31e2722",
   "metadata": {},
   "outputs": [],
   "source": [
    "ft_language = ['sentence_count', '._per_sentence', ',_per_sentence', '!_per_sentence', '?_per_sentence', ':_per_sentence',\n",
    " ';_per_sentence', 'sign_per_token', 'punctuation_per_sentence', 'approx_word_count', 'token_count', 'adj_per_word',\n",
    " 'ordinal_ratio', 'comparative_ratio', 'superlative_ratio', 'verb_per_word', 'base_ratio', 'pres_ratio', 'past_ratio',\n",
    " 'pronoun_per_word', 'self_ratio', 'union_ratio', 'other_ratio', 'sentiment']\n",
    "\n",
    "ft_speaker = ['date_of_birth', 'nationality', 'gender', 'occupation', 'academic_degree', 'religion']"
   ]
  },
  {
   "cell_type": "markdown",
   "id": "67e6cff3",
   "metadata": {},
   "source": [
    "## Tree-based feature selection"
   ]
  },
  {
   "cell_type": "code",
   "execution_count": 5,
   "id": "71caf990",
   "metadata": {},
   "outputs": [
    {
     "data": {
      "text/plain": [
       "(49235, 33)"
      ]
     },
     "execution_count": 5,
     "metadata": {},
     "output_type": "execute_result"
    }
   ],
   "source": [
    "# load a sample of the whole dataset\n",
    "dir_path = '../../'\n",
    "filename = 'sample.csv'\n",
    "df = pd.read_csv(join(dir_path, filename))\n",
    "df.shape"
   ]
  },
  {
   "cell_type": "markdown",
   "id": "0ee43d41",
   "metadata": {},
   "source": [
    "### Gender"
   ]
  },
  {
   "cell_type": "code",
   "execution_count": 6,
   "id": "e971a4ff",
   "metadata": {},
   "outputs": [
    {
     "data": {
      "text/plain": [
       "<AxesSubplot:xlabel='gender', ylabel='Count'>"
      ]
     },
     "execution_count": 6,
     "metadata": {},
     "output_type": "execute_result"
    },
    {
     "data": {
      "image/png": "[encoded data removed]",
      "text/plain": [
       "<Figure size 432x288 with 1 Axes>"
      ]
     },
     "metadata": {
      "needs_background": "light"
     },
     "output_type": "display_data"
    }
   ],
   "source": [
    "sns.histplot(data=df, x='gender')"
   ]
  },
  {
   "cell_type": "code",
   "execution_count": 7,
   "id": "5d22c97b",
   "metadata": {},
   "outputs": [],
   "source": [
    "# unbalanced dataset - there are more males than females\n",
    "male_indices = df[df.gender == 'Male'].index\n",
    "sample_size = sum(df.gender == 'Female')\n",
    "random_indices = np.random.choice(male_indices, sample_size, replace=False)\n",
    "male_samples = df.loc[random_indices]\n",
    "df_gender = pd.concat([df[df.gender == 'Female'], male_samples])"
   ]
  },
  {
   "cell_type": "code",
   "execution_count": 13,
   "id": "7c1cb4be",
   "metadata": {},
   "outputs": [
    {
     "name": "stdout",
     "output_type": "stream",
     "text": [
      "Input data size: (19438, 25)\n",
      "[',_per_sentence' 'sign_per_token' 'approx_word_count' 'token_count'\n",
      " 'adj_per_word' 'verb_per_word' 'base_ratio' 'pres_ratio' 'past_ratio'\n",
      " 'pronoun_per_word' 'sentiment']\n",
      "[0.02417755 0.0111512  0.05416927 0.00534899 0.00631087 0.00476173\n",
      " 0.00457462 0.07985724 0.00856215 0.0783372  0.08043654 0.07333623\n",
      " 0.01987687 0.01737908 0.01628049 0.09032368 0.05646137 0.05940189\n",
      " 0.05308613 0.06091854 0.01961737 0.0157459  0.01821439 0.14167069]\n",
      "R2-score for gender is: 0.0002\n"
     ]
    }
   ],
   "source": [
    "clf, model, size, X, y = select_predictors(df_gender, ft_language, 'gender')\n",
    "print('Input data size: ' + str(size))\n",
    "print(model.get_feature_names_out(ft_language))\n",
    "print(clf.feature_importances_)\n",
    "\n",
    "X_new = model.transform(X.to_numpy())\n",
    "y_new = y.map(gender_dict).to_numpy()\n",
    "\n",
    "X_train, X_test, y_train, y_test = train_test_split(X_new, y_new, random_state=0)\n",
    "reg_gender = GradientBoostingRegressor(random_state=0)\n",
    "reg_gender.fit(X_train, y_train)\n",
    "reg_gender.predict(X_test)\n",
    "print('\\nR2-score for {} is: {:.4f}'.format('gender', reg_gender.score(X_test, y_test)))"
   ]
  },
  {
   "cell_type": "code",
   "execution_count": 98,
   "id": "9f0d38c7",
   "metadata": {},
   "outputs": [
    {
     "data": {
      "text/html": [
       "<div>\n",
       "<style scoped>\n",
       "    .dataframe tbody tr th:only-of-type {\n",
       "        vertical-align: middle;\n",
       "    }\n",
       "\n",
       "    .dataframe tbody tr th {\n",
       "        vertical-align: top;\n",
       "    }\n",
       "\n",
       "    .dataframe thead th {\n",
       "        text-align: right;\n",
       "    }\n",
       "</style>\n",
       "<table border=\"1\" class=\"dataframe\">\n",
       "  <thead>\n",
       "    <tr style=\"text-align: right;\">\n",
       "      <th></th>\n",
       "      <th>,_per_sentence</th>\n",
       "      <th>sign_per_token</th>\n",
       "      <th>approx_word_count</th>\n",
       "      <th>token_count</th>\n",
       "      <th>adj_per_word</th>\n",
       "      <th>verb_per_word</th>\n",
       "      <th>base_ratio</th>\n",
       "      <th>pres_ratio</th>\n",
       "      <th>past_ratio</th>\n",
       "      <th>pronoun_per_word</th>\n",
       "      <th>sentiment</th>\n",
       "    </tr>\n",
       "  </thead>\n",
       "  <tbody>\n",
       "    <tr>\n",
       "      <th>0</th>\n",
       "      <td>1.000000</td>\n",
       "      <td>0.166667</td>\n",
       "      <td>5.0</td>\n",
       "      <td>6.0</td>\n",
       "      <td>0.000000</td>\n",
       "      <td>0.200000</td>\n",
       "      <td>-1.000000</td>\n",
       "      <td>1.000000</td>\n",
       "      <td>-1.000000</td>\n",
       "      <td>0.000000</td>\n",
       "      <td>0.500</td>\n",
       "    </tr>\n",
       "    <tr>\n",
       "      <th>1</th>\n",
       "      <td>3.000000</td>\n",
       "      <td>0.129032</td>\n",
       "      <td>27.0</td>\n",
       "      <td>31.0</td>\n",
       "      <td>0.000000</td>\n",
       "      <td>0.111111</td>\n",
       "      <td>-0.333333</td>\n",
       "      <td>0.333333</td>\n",
       "      <td>-1.000000</td>\n",
       "      <td>0.037037</td>\n",
       "      <td>0.220</td>\n",
       "    </tr>\n",
       "    <tr>\n",
       "      <th>2</th>\n",
       "      <td>0.333333</td>\n",
       "      <td>0.105263</td>\n",
       "      <td>34.0</td>\n",
       "      <td>38.0</td>\n",
       "      <td>0.058824</td>\n",
       "      <td>0.205882</td>\n",
       "      <td>-0.714286</td>\n",
       "      <td>-0.142857</td>\n",
       "      <td>-0.142857</td>\n",
       "      <td>0.117647</td>\n",
       "      <td>0.254</td>\n",
       "    </tr>\n",
       "    <tr>\n",
       "      <th>3</th>\n",
       "      <td>2.000000</td>\n",
       "      <td>0.074074</td>\n",
       "      <td>25.0</td>\n",
       "      <td>27.0</td>\n",
       "      <td>0.080000</td>\n",
       "      <td>0.160000</td>\n",
       "      <td>-0.500000</td>\n",
       "      <td>0.000000</td>\n",
       "      <td>-0.500000</td>\n",
       "      <td>0.040000</td>\n",
       "      <td>0.188</td>\n",
       "    </tr>\n",
       "    <tr>\n",
       "      <th>4</th>\n",
       "      <td>1.000000</td>\n",
       "      <td>0.111111</td>\n",
       "      <td>8.0</td>\n",
       "      <td>9.0</td>\n",
       "      <td>0.000000</td>\n",
       "      <td>0.250000</td>\n",
       "      <td>0.000000</td>\n",
       "      <td>0.000000</td>\n",
       "      <td>-1.000000</td>\n",
       "      <td>0.125000</td>\n",
       "      <td>0.000</td>\n",
       "    </tr>\n",
       "  </tbody>\n",
       "</table>\n",
       "</div>"
      ],
      "text/plain": [
       "   ,_per_sentence  sign_per_token  approx_word_count  token_count  \\\n",
       "0        1.000000        0.166667                5.0          6.0   \n",
       "1        3.000000        0.129032               27.0         31.0   \n",
       "2        0.333333        0.105263               34.0         38.0   \n",
       "3        2.000000        0.074074               25.0         27.0   \n",
       "4        1.000000        0.111111                8.0          9.0   \n",
       "\n",
       "   adj_per_word  verb_per_word  base_ratio  pres_ratio  past_ratio  \\\n",
       "0      0.000000       0.200000   -1.000000    1.000000   -1.000000   \n",
       "1      0.000000       0.111111   -0.333333    0.333333   -1.000000   \n",
       "2      0.058824       0.205882   -0.714286   -0.142857   -0.142857   \n",
       "3      0.080000       0.160000   -0.500000    0.000000   -0.500000   \n",
       "4      0.000000       0.250000    0.000000    0.000000   -1.000000   \n",
       "\n",
       "   pronoun_per_word  sentiment  \n",
       "0          0.000000      0.500  \n",
       "1          0.037037      0.220  \n",
       "2          0.117647      0.254  \n",
       "3          0.040000      0.188  \n",
       "4          0.125000      0.000  "
      ]
     },
     "execution_count": 98,
     "metadata": {},
     "output_type": "execute_result"
    }
   ],
   "source": [
    "df_new = pd.DataFrame(X_new, columns=ft_selected)\n",
    "df_new.head(5)"
   ]
  },
  {
   "cell_type": "code",
   "execution_count": 26,
   "id": "8967091e",
   "metadata": {},
   "outputs": [],
   "source": [
    "ft_gender = ['!_per_sentence', 'punctuation_per_sentence', 'self_ratio', 'union_ratio']\n",
    "df_gender_stats = df[(df.gender== 'Male') | (df.gender == 'Female')]\n",
    "X_new = df_gender_stats[ft_gender].to_numpy()\n",
    "y_new = df_gender_stats.gender.map(gender_dict).to_numpy()"
   ]
  },
  {
   "cell_type": "code",
   "execution_count": 28,
   "id": "0eb16e44",
   "metadata": {},
   "outputs": [
    {
     "name": "stdout",
     "output_type": "stream",
     "text": [
      "R2-score for gender is: 0.0102\n"
     ]
    }
   ],
   "source": [
    "X_train, X_test, y_train, y_test = train_test_split(X_new, y_new, test_size=0.3, random_state=0)\n",
    "reg_gender = GradientBoostingRegressor(random_state=0)\n",
    "reg_gender.fit(X_train, y_train)\n",
    "reg_gender.predict(X_test)\n",
    "print('\\nR2-score for {} based on statistically significant features is: {:.4f}'.format('gender', reg_gender.score(X_test, y_test)))"
   ]
  },
  {
   "cell_type": "markdown",
   "id": "f1473016",
   "metadata": {},
   "source": [
    "### Academic degree"
   ]
  },
  {
   "cell_type": "code",
   "execution_count": 120,
   "id": "0250f4cc",
   "metadata": {},
   "outputs": [
    {
     "data": {
      "text/plain": [
       "<AxesSubplot:xlabel='academic_degree', ylabel='Count'>"
      ]
     },
     "execution_count": 120,
     "metadata": {},
     "output_type": "execute_result"
    },
    {
     "data": {
      "image/png": "[encoded data removed]",
      "text/plain": [
       "<Figure size 432x288 with 1 Axes>"
      ]
     },
     "metadata": {
      "needs_background": "light"
     },
     "output_type": "display_data"
    }
   ],
   "source": [
    "sns.histplot(data=df, x='academic_degree')"
   ]
  },
  {
   "cell_type": "code",
   "execution_count": 78,
   "id": "cc3f187b",
   "metadata": {
    "scrolled": true
   },
   "outputs": [
    {
     "name": "stdout",
     "output_type": "stream",
     "text": [
      "Year: 2015\n",
      "Chunk: 0 (3, 33)\n",
      "Chunk: 50 (4146, 33)\n",
      "Chunk: 100 (8127, 33)\n",
      "Chunk: 150 (12165, 33)\n",
      "Year: 2016\n",
      "Chunk: 0 (14556, 33)\n",
      "Chunk: 50 (19305, 33)\n",
      "Chunk: 100 (24132, 33)\n",
      "Year: 2017\n",
      "Chunk: 0 (26130, 33)\n",
      "Chunk: 50 (31176, 33)\n",
      "Chunk: 100 (36186, 33)\n",
      "Chunk: 150 (40869, 33)\n",
      "Chunk: 200 (45735, 33)\n",
      "Year: 2018\n",
      "Chunk: 0 (48510, 33)\n",
      "Chunk: 50 (53646, 33)\n",
      "Chunk: 100 (58953, 33)\n",
      "Chunk: 150 (64017, 33)\n",
      "Chunk: 200 (68811, 33)\n",
      "Year: 2019\n",
      "Chunk: 0 (72501, 33)\n",
      "Chunk: 50 (77664, 33)\n",
      "Chunk: 100 (82614, 33)\n",
      "Chunk: 150 (87711, 33)\n",
      "Year: 2020\n",
      "Chunk: 0 (92070, 33)\n"
     ]
    }
   ],
   "source": [
    "df_degree = get_balanced_sample('academic_degree', degree_dict, sample_size=50)"
   ]
  },
  {
   "cell_type": "code",
   "execution_count": 79,
   "id": "16dd68b7",
   "metadata": {},
   "outputs": [
    {
     "name": "stdout",
     "output_type": "stream",
     "text": [
      "Input data size: (96138, 25)\n",
      "[',_per_sentence' 'sign_per_token' 'approx_word_count' 'token_count'\n",
      " 'adj_per_word' 'verb_per_word' 'base_ratio' 'pres_ratio' 'past_ratio'\n",
      " 'pronoun_per_word' 'sentiment']\n",
      "[0.01983261 0.0084757  0.04947579 0.00304701 0.00550833 0.00500211\n",
      " 0.00501664 0.07668625 0.00620139 0.07430817 0.07747841 0.07737043\n",
      " 0.0134027  0.01110188 0.00902445 0.09227838 0.05126458 0.05287245\n",
      " 0.04442476 0.05285523 0.01083319 0.01109454 0.01135482 0.23109017]\n",
      "\n",
      "R2-score for academic degree is: 0.0104\n"
     ]
    }
   ],
   "source": [
    "# run feature selection\n",
    "clf, model, size, X, y = select_predictors(df_degree, ft_language, 'academic_degree')\n",
    "print('Input data size: ' + str(size))\n",
    "print(model.get_feature_names_out(ft_language))\n",
    "print(clf.feature_importances_)\n",
    "\n",
    "X_new = model.transform(X.to_numpy())\n",
    "y_new = y.map(degree_dict).to_numpy()\n",
    "X_train, X_test, y_train, y_test = train_test_split(X_new, y_new, random_state=0)\n",
    "reg_degree = GradientBoostingRegressor(random_state=0)\n",
    "reg_degree.fit(X_train, y_train)\n",
    "reg_degree.predict(X_test)\n",
    "print('\\nR2-score for {} is: {:.4f}'.format('academic degree', reg_degree.score(X_test, y_test)))"
   ]
  },
  {
   "cell_type": "markdown",
   "id": "40909165",
   "metadata": {},
   "source": [
    "### Religion"
   ]
  },
  {
   "cell_type": "code",
   "execution_count": 125,
   "id": "5bc17a6d",
   "metadata": {},
   "outputs": [
    {
     "data": {
      "text/plain": [
       "<AxesSubplot:xlabel='religion', ylabel='Count'>"
      ]
     },
     "execution_count": 125,
     "metadata": {},
     "output_type": "execute_result"
    },
    {
     "data": {
      "image/png": "[encoded data removed]",
      "text/plain": [
       "<Figure size 432x288 with 1 Axes>"
      ]
     },
     "metadata": {
      "needs_background": "light"
     },
     "output_type": "display_data"
    }
   ],
   "source": [
    "sns.histplot(data=df, x='religion')"
   ]
  },
  {
   "cell_type": "code",
   "execution_count": 80,
   "id": "8c732690",
   "metadata": {},
   "outputs": [
    {
     "name": "stdout",
     "output_type": "stream",
     "text": [
      "Year: 2015\n",
      "Chunk: 0 (200, 33)\n",
      "Chunk: 50 (10200, 33)\n",
      "Chunk: 100 (20200, 33)\n",
      "Chunk: 150 (30200, 33)\n",
      "Year: 2016\n",
      "Chunk: 0 (36600, 33)\n",
      "Chunk: 50 (46600, 33)\n",
      "Chunk: 100 (56600, 33)\n",
      "Year: 2017\n",
      "Chunk: 0 (61000, 33)\n",
      "Chunk: 50 (71000, 33)\n",
      "Chunk: 100 (81000, 33)\n",
      "Chunk: 150 (91000, 33)\n",
      "Chunk: 200 (101000, 33)\n",
      "Year: 2018\n",
      "Chunk: 0 (106200, 33)\n",
      "Chunk: 50 (116200, 33)\n",
      "Chunk: 100 (126200, 33)\n",
      "Chunk: 150 (136200, 33)\n",
      "Chunk: 200 (146200, 33)\n",
      "Year: 2019\n",
      "Chunk: 0 (153000, 33)\n",
      "Chunk: 50 (163000, 33)\n",
      "Chunk: 100 (173000, 33)\n",
      "Chunk: 150 (183000, 33)\n",
      "Year: 2020\n",
      "Chunk: 0 (191400, 33)\n"
     ]
    }
   ],
   "source": [
    "# sample based on at most 50 samples per chunk\n",
    "df_religion = get_balanced_sample('religion', religion_dict, sample_size=50)"
   ]
  },
  {
   "cell_type": "code",
   "execution_count": 169,
   "id": "fa8542f3",
   "metadata": {},
   "outputs": [
    {
     "name": "stdout",
     "output_type": "stream",
     "text": [
      "Input data size: (60800, 25)\n",
      "[',_per_sentence' 'sign_per_token' 'approx_word_count' 'token_count'\n",
      " 'adj_per_word' 'verb_per_word' 'base_ratio' 'pres_ratio' 'past_ratio'\n",
      " 'pronoun_per_word' 'sentiment']\n",
      "[0.02093129 0.00778008 0.04888437 0.00373812 0.00604137 0.00457179\n",
      " 0.00590555 0.07732031 0.00518965 0.07627615 0.07861407 0.07507428\n",
      " 0.01524465 0.01244886 0.01125301 0.0917578  0.05143069 0.05324408\n",
      " 0.04646702 0.05892601 0.02065685 0.01776882 0.02191606 0.18855913]\n"
     ]
    }
   ],
   "source": [
    "clf, model, size, X, y = select_predictors(df_religion, ft_language, 'religion')\n",
    "print('Input data size: ' + str(size))\n",
    "print(model.get_feature_names_out(ft_language))\n",
    "print(clf.feature_importances_)\n",
    "\n",
    "X_new = model.transform(X.to_numpy())\n",
    "y_new = y.map(religion_dict).to_numpy()\n",
    "X_train, X_test, y_train, y_test = train_test_split(X_new, y_new, random_state=0)\n",
    "reg_religion = GradientBoostingRegressor(random_state=0)\n",
    "reg_religion.fit(X_train, y_train)\n",
    "reg_religion.predict(X_test)\n",
    "print('\\nR2-score for {} is: {:.4f}'.format('religion', reg_religion.score(X_test, y_test)))"
   ]
  },
  {
   "cell_type": "markdown",
   "id": "a010440b",
   "metadata": {},
   "source": [
    "### Occupation"
   ]
  },
  {
   "cell_type": "code",
   "execution_count": 149,
   "id": "a7fc6142",
   "metadata": {},
   "outputs": [
    {
     "data": {
      "text/plain": [
       "<AxesSubplot:xlabel='occupation', ylabel='Count'>"
      ]
     },
     "execution_count": 149,
     "metadata": {},
     "output_type": "execute_result"
    },
    {
     "data": {
      "image/png": "[encoded data removed]",
      "text/plain": [
       "<Figure size 432x288 with 1 Axes>"
      ]
     },
     "metadata": {
      "needs_background": "light"
     },
     "output_type": "display_data"
    }
   ],
   "source": [
    "sns.histplot(data=df, x='occupation')"
   ]
  },
  {
   "cell_type": "code",
   "execution_count": 29,
   "id": "6a38b054",
   "metadata": {},
   "outputs": [
    {
     "name": "stdout",
     "output_type": "stream",
     "text": [
      "Year: 2015\n",
      "Chunk: 0 (144, 33)\n",
      "Chunk: 50 (7344, 33)\n",
      "Chunk: 100 (13296, 33)\n",
      "Chunk: 150 (15296, 33)\n",
      "Year: 2016\n",
      "Chunk: 0 (16576, 33)\n",
      "Chunk: 50 (18576, 33)\n",
      "Chunk: 100 (20576, 33)\n",
      "Year: 2017\n",
      "Chunk: 0 (21480, 33)\n",
      "Chunk: 50 (22024, 33)\n",
      "Chunk: 100 (22024, 33)\n",
      "Chunk: 150 (22024, 33)\n",
      "Chunk: 200 (22024, 33)\n",
      "Year: 2018\n",
      "Chunk: 0 (22024, 33)\n",
      "Chunk: 50 (22024, 33)\n",
      "Chunk: 100 (22024, 33)\n",
      "Chunk: 150 (22024, 33)\n",
      "Chunk: 200 (22024, 33)\n",
      "Year: 2019\n",
      "Chunk: 0 (22024, 33)\n",
      "Chunk: 50 (22024, 33)\n",
      "Chunk: 100 (22024, 33)\n",
      "Chunk: 150 (22024, 33)\n",
      "Year: 2020\n",
      "Chunk: 0 (22024, 33)\n"
     ]
    }
   ],
   "source": [
    "df_occupation = get_balanced_sample('occupation', occupation_dict, sample_size=50)"
   ]
  },
  {
   "cell_type": "code",
   "execution_count": 172,
   "id": "e21ac3ac",
   "metadata": {},
   "outputs": [
    {
     "name": "stdout",
     "output_type": "stream",
     "text": [
      "Input data size: (22024, 25)\n",
      "[',_per_sentence' 'sign_per_token' 'approx_word_count' 'token_count'\n",
      " 'adj_per_word' 'verb_per_word' 'base_ratio' 'pres_ratio' 'past_ratio'\n",
      " 'pronoun_per_word' 'sentiment']\n",
      "[0.02261687 0.01259157 0.05287016 0.00342633 0.00534335 0.00480018\n",
      " 0.00552291 0.08274954 0.01039336 0.08088131 0.08283764 0.0753292\n",
      " 0.01816665 0.01497838 0.01330887 0.09262835 0.05682847 0.06101039\n",
      " 0.05190184 0.05940595 0.01461531 0.01336383 0.01531407 0.14911548]\n"
     ]
    }
   ],
   "source": [
    "clf, model, size, X, y = select_predictors(df_occupation, ft_language, 'occupation')\n",
    "print('Input data size: ' + str(size))\n",
    "print(model.get_feature_names_out(ft_language))\n",
    "print(clf.feature_importances_)"
   ]
  },
  {
   "cell_type": "code",
   "execution_count": 173,
   "id": "52131165",
   "metadata": {},
   "outputs": [
    {
     "name": "stdout",
     "output_type": "stream",
     "text": [
      "R2-score for occupation is: 0.0009\n"
     ]
    }
   ],
   "source": [
    "X_new = model.transform(X.to_numpy())\n",
    "y_new = y.map(occupation_dict).to_numpy()\n",
    "X_train, X_test, y_train, y_test = train_test_split(X_new, y_new, random_state=0)\n",
    "reg_occupation = GradientBoostingRegressor(random_state=0)\n",
    "reg_occupation.fit(X_train, y_train)\n",
    "reg_occupation.predict(X_test)\n",
    "print('R2-score for {} is: {:.4f}'.format('occupation', reg_occupation.score(X_test, y_test)))"
   ]
  },
  {
   "cell_type": "code",
   "execution_count": 45,
   "id": "d7fe5339",
   "metadata": {},
   "outputs": [
    {
     "name": "stdout",
     "output_type": "stream",
     "text": [
      "R2-score for occupation based on statistically significant features is: -0.0013\n"
     ]
    }
   ],
   "source": [
    "ft_occupation = ['sentence_count', '!_per_sentence', 'sign_per_token', 'verb_per_word', 'pronoun_per_word', 'union_ratio', 'sentiment']\n",
    "df_occupation_stats = df[df.occupation != 'Other'].dropna()\n",
    "X_new = df_occupation_stats[ft_occupation].to_numpy()\n",
    "y_new = df_occupation_stats.occupation.map(occupation_dict).to_numpy()\n",
    "\n",
    "X_train, X_test, y_train, y_test = train_test_split(X_new, y_new, test_size=0.3, random_state=0)\n",
    "reg_occupation_stats = GradientBoostingRegressor(random_state=0)\n",
    "reg_occupation_stats.fit(X_train, y_train)\n",
    "reg_occupation_stats.predict(X_test)\n",
    "print('R2-score for {} based on statistically significant features is: {:.4f}'.format('occupation', reg_occupation_stats.score(X_test, y_test)))"
   ]
  },
  {
   "cell_type": "markdown",
   "id": "c20e899e",
   "metadata": {},
   "source": [
    "### Nationality"
   ]
  },
  {
   "cell_type": "code",
   "execution_count": 52,
   "id": "3e6a6d8a",
   "metadata": {},
   "outputs": [
    {
     "name": "stderr",
     "output_type": "stream",
     "text": [
      "D:\\Software\\anaconda\\envs\\ada\\lib\\site-packages\\pandas\\core\\indexing.py:1732: SettingWithCopyWarning: \n",
      "A value is trying to be set on a copy of a slice from a DataFrame\n",
      "\n",
      "See the caveats in the documentation: https://pandas.pydata.org/pandas-docs/stable/user_guide/indexing.html#returning-a-view-versus-a-copy\n",
      "  self._setitem_single_block(indexer, value, name)\n"
     ]
    },
    {
     "data": {
      "text/plain": [
       "<AxesSubplot:xlabel='nationality', ylabel='Count'>"
      ]
     },
     "execution_count": 52,
     "metadata": {},
     "output_type": "execute_result"
    },
    {
     "data": {
      "image/png": "[encoded data removed]",
      "text/plain": [
       "<Figure size 432x288 with 1 Axes>"
      ]
     },
     "metadata": {
      "needs_background": "light"
     },
     "output_type": "display_data"
    }
   ],
   "source": [
    "df_continent = group_nation_by_continent(df)\n",
    "sns.histplot(data=df_continent, x='nationality')"
   ]
  },
  {
   "cell_type": "code",
   "execution_count": 54,
   "id": "9aa75161",
   "metadata": {},
   "outputs": [
    {
     "name": "stdout",
     "output_type": "stream",
     "text": [
      "Input data size: (45105, 25)\n",
      "[',_per_sentence' 'sign_per_token' 'approx_word_count' 'token_count'\n",
      " 'adj_per_word' 'verb_per_word' 'base_ratio' 'pres_ratio' 'past_ratio'\n",
      " 'pronoun_per_word' 'sentiment']\n",
      "[0.02362731 0.01011103 0.04925463 0.0042212  0.00541504 0.00429843\n",
      " 0.00480049 0.07991145 0.00695108 0.0759161  0.07805043 0.07399329\n",
      " 0.0143886  0.01184857 0.00993514 0.09077397 0.05556236 0.05861028\n",
      " 0.05149793 0.06312715 0.0218864  0.01823357 0.02188001 0.16570553]\n",
      "R2-score for continent is: 0.0191\n"
     ]
    }
   ],
   "source": [
    "clf, model, size, X, y = select_predictors(df_continent, ft_language, 'nationality')\n",
    "print('Input data size: ' + str(size))\n",
    "print(model.get_feature_names_out(ft_language))\n",
    "print(clf.feature_importances_)\n",
    "\n",
    "X_new = model.transform(X.to_numpy())\n",
    "y_new = y.map(continent_dict).to_numpy()\n",
    "X_train, X_test, y_train, y_test = train_test_split(X_new, y_new, random_state=0)\n",
    "reg_continent = GradientBoostingRegressor(random_state=0)\n",
    "reg_continent.fit(X_train, y_train)\n",
    "reg_continent.predict(X_test)\n",
    "print('R2-score for {} is: {:.4f}'.format('continent', reg_continent.score(X_test, y_test)))"
   ]
  },
  {
   "cell_type": "markdown",
   "id": "bb78b975",
   "metadata": {},
   "source": [
    "###  Generation"
   ]
  },
  {
   "cell_type": "code",
   "execution_count": 46,
   "id": "d1a05644",
   "metadata": {},
   "outputs": [],
   "source": [
    "def GroupBirthDates(sample):\n",
    "    birth = sample.copy()\n",
    "    birth[\"date_of_birth\"] = birth[\"date_of_birth\"].astype(int)\n",
    "    birth[\"date_of_birth\"] = birth[\"date_of_birth\"].apply(lambda x: '30s' if x < 1940 else '50s' if x < 1960 else '70s' if x < 1980  else '90s' if x < 2000 else '00s' if x < 2020 else x)\n",
    "    return birth"
   ]
  },
  {
   "cell_type": "code",
   "execution_count": 55,
   "id": "0d92ba80",
   "metadata": {},
   "outputs": [
    {
     "data": {
      "text/plain": [
       "<AxesSubplot:xlabel='date_of_birth', ylabel='Count'>"
      ]
     },
     "execution_count": 55,
     "metadata": {},
     "output_type": "execute_result"
    },
    {
     "data": {
      "image/png": "[encoded data removed]",
      "text/plain": [
       "<Figure size 432x288 with 1 Axes>"
      ]
     },
     "metadata": {
      "needs_background": "light"
     },
     "output_type": "display_data"
    }
   ],
   "source": [
    "df_generation = GroupBirthDates(df)\n",
    "sns.histplot(data=df_generation, x=\"date_of_birth\")"
   ]
  },
  {
   "cell_type": "code",
   "execution_count": 62,
   "id": "627c207d",
   "metadata": {},
   "outputs": [
    {
     "name": "stdout",
     "output_type": "stream",
     "text": [
      "Input data size: (49235, 25)\n",
      "[',_per_sentence' 'sign_per_token' 'approx_word_count' 'token_count'\n",
      " 'adj_per_word' 'verb_per_word' 'base_ratio' 'pres_ratio' 'past_ratio'\n",
      " 'pronoun_per_word' 'sentiment']\n",
      "[0.02293171 0.01101902 0.05172007 0.00406098 0.00615502 0.00434455\n",
      " 0.00456564 0.07905542 0.00806188 0.07528456 0.07777289 0.07305781\n",
      " 0.01773783 0.01541201 0.0130558  0.09038725 0.05436512 0.05894164\n",
      " 0.05118183 0.06480109 0.01864507 0.01676033 0.01656568 0.16411679]\n",
      "R2-score for continent is: 0.0227\n"
     ]
    }
   ],
   "source": [
    "clf, model, size, X, y = select_predictors(df_generation, ft_language, 'date_of_birth')\n",
    "print('Input data size: ' + str(size))\n",
    "print(model.get_feature_names_out(ft_language))\n",
    "print(clf.feature_importances_)\n",
    "\n",
    "X_new = model.transform(X.to_numpy())\n",
    "y_new = y.map(generation_dict).to_numpy()\n",
    "X_train, X_test, y_train, y_test = train_test_split(X_new, y_new, random_state=0)\n",
    "\n",
    "reg_generation = GradientBoostingRegressor(random_state=0)\n",
    "reg_generation.fit(X_train, y_train)\n",
    "reg_generation.predict(X_test)\n",
    "print('R2-score for {} is: {:.4f}'.format('continent', reg_generation.score(X_test, y_test)))"
   ]
  },
  {
   "cell_type": "code",
   "execution_count": 64,
   "id": "026a0846",
   "metadata": {},
   "outputs": [
    {
     "name": "stdout",
     "output_type": "stream",
     "text": [
      "R2-score for generation based on statistically significant features is: 0.0341\n"
     ]
    }
   ],
   "source": [
    "ft_generation = ['pronoun_per_word', 'self_ratio', 'union_ratio']\n",
    "X_new = df_generation[ft_generation].to_numpy()\n",
    "y_new = df_generation.date_of_birth.map(generation_dict).to_numpy()\n",
    "\n",
    "X_train, X_test, y_train, y_test = train_test_split(X_new, y_new, test_size=0.3, random_state=0)\n",
    "reg_generation_stats = GradientBoostingRegressor(random_state=0)\n",
    "reg_generation_stats.fit(X_train, y_train)\n",
    "reg_generation_stats.predict(X_test)\n",
    "print('R2-score for {} based on statistically significant features is: {:.4f}'.format('generation', reg_generation_stats.score(X_test, y_test)))"
   ]
  },
  {
   "cell_type": "markdown",
   "id": "73a16231",
   "metadata": {},
   "source": [
    "## Feature agglomeration"
   ]
  },
  {
   "cell_type": "markdown",
   "id": "bb746548",
   "metadata": {},
   "source": [
    "Was not used because it is difficult to understand the meaning of combined language features."
   ]
  },
  {
   "cell_type": "code",
   "execution_count": 56,
   "id": "d02af98a",
   "metadata": {},
   "outputs": [
    {
     "data": {
      "text/plain": [
       "(1000000, 24)"
      ]
     },
     "execution_count": 56,
     "metadata": {},
     "output_type": "execute_result"
    }
   ],
   "source": [
    "X = df[ft_language].copy().to_numpy()\n",
    "X.shape"
   ]
  },
  {
   "cell_type": "code",
   "execution_count": 57,
   "id": "6d77ea20",
   "metadata": {},
   "outputs": [
    {
     "data": {
      "text/plain": [
       "(1000000, 22)"
      ]
     },
     "execution_count": 57,
     "metadata": {},
     "output_type": "execute_result"
    }
   ],
   "source": [
    "agglo = cluster.FeatureAgglomeration(n_clusters=None, distance_threshold=120)\n",
    "agglo.fit(X)\n",
    "X_reduced = agglo.transform(X)\n",
    "X_reduced.shape"
   ]
  },
  {
   "cell_type": "code",
   "execution_count": 58,
   "id": "bed646ba",
   "metadata": {},
   "outputs": [
    {
     "data": {
      "text/html": [
       "<div>\n",
       "<style scoped>\n",
       "    .dataframe tbody tr th:only-of-type {\n",
       "        vertical-align: middle;\n",
       "    }\n",
       "\n",
       "    .dataframe tbody tr th {\n",
       "        vertical-align: top;\n",
       "    }\n",
       "\n",
       "    .dataframe thead th {\n",
       "        text-align: right;\n",
       "    }\n",
       "</style>\n",
       "<table border=\"1\" class=\"dataframe\">\n",
       "  <thead>\n",
       "    <tr style=\"text-align: right;\">\n",
       "      <th></th>\n",
       "      <th>0</th>\n",
       "      <th>1</th>\n",
       "      <th>2</th>\n",
       "      <th>3</th>\n",
       "      <th>4</th>\n",
       "      <th>5</th>\n",
       "      <th>6</th>\n",
       "      <th>7</th>\n",
       "      <th>8</th>\n",
       "      <th>9</th>\n",
       "      <th>...</th>\n",
       "      <th>12</th>\n",
       "      <th>13</th>\n",
       "      <th>14</th>\n",
       "      <th>15</th>\n",
       "      <th>16</th>\n",
       "      <th>17</th>\n",
       "      <th>18</th>\n",
       "      <th>19</th>\n",
       "      <th>20</th>\n",
       "      <th>21</th>\n",
       "    </tr>\n",
       "  </thead>\n",
       "  <tbody>\n",
       "    <tr>\n",
       "      <th>0</th>\n",
       "      <td>0.194444</td>\n",
       "      <td>-0.478</td>\n",
       "      <td>1.0</td>\n",
       "      <td>0.0</td>\n",
       "      <td>-1.0</td>\n",
       "      <td>-1.0</td>\n",
       "      <td>-1.0</td>\n",
       "      <td>12.0</td>\n",
       "      <td>0.0</td>\n",
       "      <td>0.0</td>\n",
       "      <td>...</td>\n",
       "      <td>-1.0</td>\n",
       "      <td>9.0</td>\n",
       "      <td>1.0</td>\n",
       "      <td>0.0</td>\n",
       "      <td>1.0</td>\n",
       "      <td>0.0</td>\n",
       "      <td>0.333333</td>\n",
       "      <td>0.0</td>\n",
       "      <td>0.0</td>\n",
       "      <td>0.0</td>\n",
       "    </tr>\n",
       "    <tr>\n",
       "      <th>1</th>\n",
       "      <td>0.080655</td>\n",
       "      <td>0.301</td>\n",
       "      <td>0.0</td>\n",
       "      <td>1.0</td>\n",
       "      <td>-1.0</td>\n",
       "      <td>0.0</td>\n",
       "      <td>-1.0</td>\n",
       "      <td>35.0</td>\n",
       "      <td>-1.0</td>\n",
       "      <td>0.0</td>\n",
       "      <td>...</td>\n",
       "      <td>-1.0</td>\n",
       "      <td>32.0</td>\n",
       "      <td>1.0</td>\n",
       "      <td>0.0</td>\n",
       "      <td>1.0</td>\n",
       "      <td>-1.0</td>\n",
       "      <td>0.187500</td>\n",
       "      <td>0.0</td>\n",
       "      <td>0.0</td>\n",
       "      <td>0.0</td>\n",
       "    </tr>\n",
       "    <tr>\n",
       "      <th>2</th>\n",
       "      <td>0.191667</td>\n",
       "      <td>-0.636</td>\n",
       "      <td>0.0</td>\n",
       "      <td>0.0</td>\n",
       "      <td>0.0</td>\n",
       "      <td>0.0</td>\n",
       "      <td>-1.0</td>\n",
       "      <td>10.0</td>\n",
       "      <td>0.0</td>\n",
       "      <td>0.0</td>\n",
       "      <td>...</td>\n",
       "      <td>-1.0</td>\n",
       "      <td>8.0</td>\n",
       "      <td>1.0</td>\n",
       "      <td>0.0</td>\n",
       "      <td>1.0</td>\n",
       "      <td>0.0</td>\n",
       "      <td>0.000000</td>\n",
       "      <td>1.0</td>\n",
       "      <td>0.0</td>\n",
       "      <td>0.0</td>\n",
       "    </tr>\n",
       "    <tr>\n",
       "      <th>3</th>\n",
       "      <td>0.028382</td>\n",
       "      <td>0.291</td>\n",
       "      <td>-0.6</td>\n",
       "      <td>0.0</td>\n",
       "      <td>-0.6</td>\n",
       "      <td>0.2</td>\n",
       "      <td>-1.0</td>\n",
       "      <td>24.0</td>\n",
       "      <td>0.0</td>\n",
       "      <td>0.0</td>\n",
       "      <td>...</td>\n",
       "      <td>-1.0</td>\n",
       "      <td>23.0</td>\n",
       "      <td>1.0</td>\n",
       "      <td>0.0</td>\n",
       "      <td>0.0</td>\n",
       "      <td>0.0</td>\n",
       "      <td>0.217391</td>\n",
       "      <td>1.0</td>\n",
       "      <td>0.0</td>\n",
       "      <td>0.0</td>\n",
       "    </tr>\n",
       "    <tr>\n",
       "      <th>4</th>\n",
       "      <td>0.022222</td>\n",
       "      <td>0.000</td>\n",
       "      <td>0.0</td>\n",
       "      <td>0.0</td>\n",
       "      <td>0.0</td>\n",
       "      <td>-1.0</td>\n",
       "      <td>0.0</td>\n",
       "      <td>15.0</td>\n",
       "      <td>0.0</td>\n",
       "      <td>0.0</td>\n",
       "      <td>...</td>\n",
       "      <td>0.0</td>\n",
       "      <td>14.0</td>\n",
       "      <td>0.0</td>\n",
       "      <td>0.0</td>\n",
       "      <td>1.0</td>\n",
       "      <td>0.0</td>\n",
       "      <td>0.142857</td>\n",
       "      <td>0.0</td>\n",
       "      <td>0.0</td>\n",
       "      <td>0.0</td>\n",
       "    </tr>\n",
       "  </tbody>\n",
       "</table>\n",
       "<p>5 rows × 22 columns</p>\n",
       "</div>"
      ],
      "text/plain": [
       "         0      1    2    3    4    5    6     7    8    9   ...   12    13  \\\n",
       "0  0.194444 -0.478  1.0  0.0 -1.0 -1.0 -1.0  12.0  0.0  0.0  ... -1.0   9.0   \n",
       "1  0.080655  0.301  0.0  1.0 -1.0  0.0 -1.0  35.0 -1.0  0.0  ... -1.0  32.0   \n",
       "2  0.191667 -0.636  0.0  0.0  0.0  0.0 -1.0  10.0  0.0  0.0  ... -1.0   8.0   \n",
       "3  0.028382  0.291 -0.6  0.0 -0.6  0.2 -1.0  24.0  0.0  0.0  ... -1.0  23.0   \n",
       "4  0.022222  0.000  0.0  0.0  0.0 -1.0  0.0  15.0  0.0  0.0  ...  0.0  14.0   \n",
       "\n",
       "    14   15   16   17        18   19   20   21  \n",
       "0  1.0  0.0  1.0  0.0  0.333333  0.0  0.0  0.0  \n",
       "1  1.0  0.0  1.0 -1.0  0.187500  0.0  0.0  0.0  \n",
       "2  1.0  0.0  1.0  0.0  0.000000  1.0  0.0  0.0  \n",
       "3  1.0  0.0  0.0  0.0  0.217391  1.0  0.0  0.0  \n",
       "4  0.0  0.0  1.0  0.0  0.142857  0.0  0.0  0.0  \n",
       "\n",
       "[5 rows x 22 columns]"
      ]
     },
     "execution_count": 58,
     "metadata": {},
     "output_type": "execute_result"
    }
   ],
   "source": [
    "df_new = pd.DataFrame(X_reduced)\n",
    "df_new.head(5)"
   ]
  }
 ],
 "metadata": {
  "kernelspec": {
   "display_name": "Python 3 (ipykernel)",
   "language": "python",
   "name": "python3"
  },
  "language_info": {
   "codemirror_mode": {
    "name": "ipython",
    "version": 3
   },
   "file_extension": ".py",
   "mimetype": "text/x-python",
   "name": "python",
   "nbconvert_exporter": "python",
   "pygments_lexer": "ipython3",
   "version": "3.7.12"
  }
 },
 "nbformat": 4,
 "nbformat_minor": 5
}
