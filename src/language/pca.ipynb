{
 "cells": [
  {
   "cell_type": "code",
   "execution_count": 1,
   "metadata": {},
   "outputs": [],
   "source": [
    "import pandas as pd\n",
    "from sklearn.decomposition import IncrementalPCA"
   ]
  },
  {
   "cell_type": "markdown",
   "metadata": {},
   "source": [
    "### PCA with selected features"
   ]
  },
  {
   "cell_type": "code",
   "execution_count": null,
   "metadata": {},
   "outputs": [],
   "source": [
    "years = ['2015', '2016', '2017', '2018', '2019', '2020']\n",
    "generate_path = './../../generated/'\n",
    "file_prefix_r = 'quotes-'\n",
    "file_suffix_r = '_with_language_feats.csv'\n",
    "selected_feats = [',_per_sentence', 'sign_per_token', 'approx_word_count', 'token_count', 'adj_per_word', 'verb_per_word', 'base_ratio', 'pres_ratio', 'past_ratio', 'pronoun_per_word', 'sentiment']\n",
    "\n",
    "ipca = IncrementalPCA(n_components = len(selected_feats), batch_size = 40000)\n",
    "\n",
    "for year in years:\n",
    "    print(\"Year: \" + str(year))\n",
    "    # read the file from year and filer away features that are not selected\n",
    "    file_name_r = file_prefix_r + year + file_suffix_r\n",
    "    df_quotes_chunks = pd.read_csv(generate_path + file_name_r, chunksize = 40000, low_memory = False)\n",
    "    for i, df_chunk in enumerate(df_quotes_chunks):\n",
    "        # remove header duplicates\n",
    "        chunk_clean = df_chunk[selected_feats][df_chunk[',_per_sentence'] != ',_per_sentence']\n",
    "\n",
    "        ipca.partial_fit(chunk_clean.to_numpy())\n",
    "        if i % 50 == 0:\n",
    "            print(\"Chunk: \" + str(i))\n"
   ]
  },
  {
   "cell_type": "code",
   "execution_count": 66,
   "metadata": {},
   "outputs": [
    {
     "data": {
      "text/plain": [
       "array([9.96683848e-01, 1.50687011e-03, 7.04334067e-04, 6.25682351e-04,\n",
       "       4.06710608e-04, 4.10330836e-05, 1.66893819e-05, 6.26032996e-06,\n",
       "       4.11063836e-06, 3.31934678e-06, 1.14158829e-06])"
      ]
     },
     "execution_count": 66,
     "metadata": {},
     "output_type": "execute_result"
    }
   ],
   "source": [
    "ipca.explained_variance_ratio_"
   ]
  },
  {
   "cell_type": "code",
   "execution_count": 72,
   "metadata": {},
   "outputs": [],
   "source": [
    "pca_vec = ipca.components_[:2]"
   ]
  },
  {
   "cell_type": "markdown",
   "metadata": {},
   "source": [
    "### PCA with all features"
   ]
  },
  {
   "cell_type": "code",
   "execution_count": null,
   "metadata": {},
   "outputs": [],
   "source": [
    "years = ['2015'] #['2015', '2016', '2017', '2018', '2019', '2020']\n",
    "file_prefix_r = 'quotes-'\n",
    "file_suffix_r = '_with_language_feats.csv'\n",
    "generate_path = './../../generated/'\n",
    "\n",
    "ipca2 = IncrementalPCA(batch_size = 40000)\n",
    "\n",
    "for year in years:\n",
    "    print(\"Year: \" + str(year))\n",
    "    # read the file from year\n",
    "    file_name_r = file_prefix_r + year + file_suffix_r\n",
    "    df_quotes_chunks = pd.read_csv(generate_path + file_name_r, chunksize = 40000, low_memory = False)\n",
    "    \n",
    "    for i, df_chunk in enumerate(df_quotes_chunks):\n",
    "        # remove header duplicates and drop non-language features columns\n",
    "        chunk_clean = df_chunk.drop(columns = ['Unnamed: 0', 'quoteID', 'quotation', 'speaker', 'prob', 'qid'])[df_chunk[',_per_sentence'] != ',_per_sentence']\n",
    "        \n",
    "        ipca2.partial_fit(chunk_clean.to_numpy())\n",
    "\n",
    "        if i % 50 == 0:\n",
    "            print(\"Chunk: \" + str(i))\n"
   ]
  },
  {
   "cell_type": "code",
   "execution_count": 37,
   "metadata": {},
   "outputs": [
    {
     "data": {
      "text/plain": [
       "array([8.77082522e+02, 1.40877005e+00, 1.07727608e+00, 7.13629627e-01,\n",
       "       6.97089554e-01, 6.18924523e-01, 5.59511528e-01, 3.83780795e-01,\n",
       "       3.49980869e-01, 8.32235199e-02, 7.73777916e-02, 6.24553270e-02,\n",
       "       3.77195292e-02, 3.60558753e-02, 2.07679802e-02, 1.78119654e-02,\n",
       "       1.64074580e-02, 1.41675010e-02, 1.20637233e-02, 4.26195419e-03,\n",
       "       2.23949346e-03, 1.77061585e-03, 8.50784858e-04, 1.06642148e-26])"
      ]
     },
     "execution_count": 37,
     "metadata": {},
     "output_type": "execute_result"
    }
   ],
   "source": [
    "ipca2.explained_variance_"
   ]
  },
  {
   "cell_type": "markdown",
   "metadata": {},
   "source": [
    "### Plot datapoints after dim reduction"
   ]
  },
  {
   "cell_type": "code",
   "execution_count": 68,
   "metadata": {},
   "outputs": [],
   "source": [
    "from matplotlib.pyplot import scatter\n",
    "import matplotlib.pyplot as plt\n",
    "%matplotlib inline"
   ]
  },
  {
   "cell_type": "code",
   "execution_count": 75,
   "metadata": {},
   "outputs": [
    {
     "data": {
      "image/png": "[encoded data removed]",
      "text/plain": [
       "<Figure size 432x288 with 1 Axes>"
      ]
     },
     "metadata": {
      "needs_background": "light"
     },
     "output_type": "display_data"
    },
    {
     "name": "stdout",
     "output_type": "stream",
     "text": [
      "Chunk: 0\n",
      "die\n",
      "die\n",
      "die\n",
      "die\n",
      "die\n",
      "die\n",
      "die\n"
     ]
    }
   ],
   "source": [
    "years = ['2015'] #['2015', '2016', '2017', '2018', '2019', '2020']\n",
    "file_prefix_r = 'quotes-'\n",
    "file_suffix_r = '_with_language_feats.csv'\n",
    "generate_path = './../../generated/'\n",
    "selected_feats = [',_per_sentence', 'sign_per_token', 'approx_word_count', 'token_count', 'adj_per_word', 'verb_per_word', 'base_ratio', 'pres_ratio', 'past_ratio', 'pronoun_per_word', 'sentiment']\n",
    "\n",
    "for year in years:\n",
    "    # read the file from year\n",
    "    file_name_r = file_prefix_r + year + file_suffix_r\n",
    "    df_quotes_chunks = pd.read_csv(generate_path + file_name_r, chunksize = 1000000, low_memory = False)\n",
    "\n",
    "    # plot the data points of the first chunk\n",
    "    for i, df_chunk in enumerate(df_quotes_chunks):\n",
    "        if i == 0:\n",
    "            # remove duplicate headers, filter on features and cast to type float32\n",
    "            chunk_clean = df_chunk[selected_feats][df_chunk[',_per_sentence'] != ',_per_sentence'].astype('float32')\n",
    "            v = chunk_clean.to_numpy() @ pca_vec.T\n",
    "            scatter(v[:,0], v[:,1])\n",
    "            plt.show()\n",
    "            if i % 10 == 0:\n",
    "                print(\"Chunk: \" + str(i))\n",
    "        else:\n",
    "            print(\"die\")"
   ]
  },
  {
   "cell_type": "code",
   "execution_count": null,
   "metadata": {},
   "outputs": [],
   "source": []
  }
 ],
 "metadata": {
  "interpreter": {
   "hash": "2ddbd0b842a978e03471eb3a4ae18fdd24eb8ad76bdab23b363108c4c8f6a59c"
  },
  "kernelspec": {
   "display_name": "Python 3.8.11 64-bit ('ada': conda)",
   "language": "python",
   "name": "python3"
  },
  "language_info": {
   "codemirror_mode": {
    "name": "ipython",
    "version": 3
   },
   "file_extension": ".py",
   "mimetype": "text/x-python",
   "name": "python",
   "nbconvert_exporter": "python",
   "pygments_lexer": "ipython3",
   "version": "3.8.11"
  },
  "orig_nbformat": 4
 },
 "nbformat": 4,
 "nbformat_minor": 2
}
