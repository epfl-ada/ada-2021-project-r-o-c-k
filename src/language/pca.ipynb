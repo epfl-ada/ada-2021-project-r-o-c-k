{
 "cells": [
  {
   "cell_type": "code",
   "execution_count": 1,
   "metadata": {},
   "outputs": [],
   "source": [
    "import pandas as pd\n",
    "from sklearn.decomposition import IncrementalPCA"
   ]
  },
  {
   "cell_type": "markdown",
   "metadata": {},
   "source": [
    "### Get estimated mean and variance"
   ]
  },
  {
   "cell_type": "code",
   "execution_count": null,
   "metadata": {},
   "outputs": [],
   "source": [
    "years = ['2015', '2016', '2017', '2018', '2019', '2020']\n",
    "generate_path = './../../generated/'\n",
    "file_prefix_r = 'quotes-'\n",
    "file_suffix_r = '_with_language_feats.csv'\n",
    "selected_feats = [',_per_sentence', 'sign_per_token', 'approx_word_count', 'token_count', 'adj_per_word', 'verb_per_word', 'base_ratio', 'pres_ratio', 'past_ratio', 'pronoun_per_word', 'sentiment']\n",
    "\n",
    "ipca = IncrementalPCA(n_components = len(selected_feats), batch_size = 40000)\n",
    "\n",
    "samples = []\n",
    "\n",
    "# get a sample of the df from each chunk from each year\n",
    "for year in years:\n",
    "    print(\"Year: \" + str(year))\n",
    "    # read the file from year and filter away features that are not selected\n",
    "    file_name_r = file_prefix_r + year + file_suffix_r\n",
    "    df_quotes_chunks = pd.read_csv(generate_path + file_name_r, chunksize = 40000, low_memory = False)\n",
    "\n",
    "    for i, df_chunk in enumerate(df_quotes_chunks):\n",
    "        # remove header duplicates\n",
    "        chunk_clean = df_chunk[selected_feats][df_chunk[',_per_sentence'] != ',_per_sentence']\n",
    "\n",
    "        # get sample and append it to samples\n",
    "        sample = chunk_clean.sample(40)\n",
    "        samples.append(sample)\n",
    "\n",
    "        if i % 50 == 0:\n",
    "            print(\"Chunk: \" + str(i))\n"
   ]
  },
  {
   "cell_type": "code",
   "execution_count": 110,
   "metadata": {},
   "outputs": [],
   "source": [
    "sample = pd.concat(samples)\n",
    "mean = sample.astype('float32').mean(axis = 0)\n",
    "std = sample.astype('float32').std(axis = 0)"
   ]
  },
  {
   "cell_type": "code",
   "execution_count": 118,
   "metadata": {},
   "outputs": [
    {
     "data": {
      "text/plain": [
       ",_per_sentence        1.115390\n",
       "sign_per_token        0.095745\n",
       "approx_word_count    25.646566\n",
       "token_count          28.183037\n",
       "adj_per_word          0.074317\n",
       "verb_per_word         0.199622\n",
       "base_ratio           -0.454758\n",
       "pres_ratio            0.000202\n",
       "past_ratio           -0.508842\n",
       "pronoun_per_word      0.070084\n",
       "sentiment             0.071492\n",
       "dtype: float32"
      ]
     },
     "execution_count": 118,
     "metadata": {},
     "output_type": "execute_result"
    }
   ],
   "source": [
    "mean"
   ]
  },
  {
   "cell_type": "code",
   "execution_count": 119,
   "metadata": {},
   "outputs": [
    {
     "data": {
      "text/plain": [
       ",_per_sentence        1.097464\n",
       "sign_per_token        0.050890\n",
       "approx_word_count    19.901587\n",
       "token_count          21.732134\n",
       "adj_per_word          0.069059\n",
       "verb_per_word         0.084899\n",
       "base_ratio            0.518655\n",
       "pres_ratio            0.605501\n",
       "past_ratio            0.561781\n",
       "pronoun_per_word      0.067149\n",
       "sentiment             0.193451\n",
       "dtype: float32"
      ]
     },
     "execution_count": 119,
     "metadata": {},
     "output_type": "execute_result"
    }
   ],
   "source": [
    "std"
   ]
  },
  {
   "cell_type": "markdown",
   "metadata": {},
   "source": [
    "### PCA with selected features"
   ]
  },
  {
   "cell_type": "code",
   "execution_count": null,
   "metadata": {},
   "outputs": [],
   "source": [
    "years = ['2015', '2016', '2017', '2018', '2019', '2020']\n",
    "generate_path = './../../generated/'\n",
    "file_prefix_r = 'quotes-'\n",
    "file_suffix_r = '_with_language_feats.csv'\n",
    "selected_feats = [',_per_sentence', 'sign_per_token', 'approx_word_count', 'token_count', 'adj_per_word', 'verb_per_word', 'base_ratio', 'pres_ratio', 'past_ratio', 'pronoun_per_word', 'sentiment']\n",
    "\n",
    "ipca = IncrementalPCA(n_components = len(selected_feats), batch_size = 40000)\n",
    "\n",
    "for year in years:\n",
    "    print(\"Year: \" + str(year))\n",
    "    # read the file from year and filer away features that are not selected\n",
    "    file_name_r = file_prefix_r + year + file_suffix_r\n",
    "    df_quotes_chunks = pd.read_csv(generate_path + file_name_r, chunksize = 40000, low_memory = False)\n",
    "    for i, df_chunk in enumerate(df_quotes_chunks):\n",
    "        # remove header duplicates\n",
    "        chunk_clean = df_chunk[selected_feats][df_chunk[',_per_sentence'] != ',_per_sentence'].astype('float32') \n",
    "\n",
    "        chunk_normalized = (chunk_clean - mean) / std\n",
    "\n",
    "        ipca.partial_fit(chunk_normalized.to_numpy())\n",
    "        \n",
    "        if i % 50 == 0:\n",
    "            print(\"Chunk: \" + str(i))\n"
   ]
  },
  {
   "cell_type": "code",
   "execution_count": 112,
   "metadata": {},
   "outputs": [
    {
     "data": {
      "text/plain": [
       "array([1.96128465e-01, 1.54213999e-01, 1.45818469e-01, 1.25947570e-01,\n",
       "       1.07583140e-01, 9.38589713e-02, 6.73786869e-02, 5.57829677e-02,\n",
       "       5.08207614e-02, 2.39212863e-03, 7.48403331e-05])"
      ]
     },
     "execution_count": 112,
     "metadata": {},
     "output_type": "execute_result"
    }
   ],
   "source": [
    "ipca.explained_variance_ratio_"
   ]
  },
  {
   "cell_type": "code",
   "execution_count": 115,
   "metadata": {},
   "outputs": [
    {
     "data": {
      "text/plain": [
       "array([[ 0.16322071, -0.16037459,  0.68651836,  0.68500483, -0.06235486,\n",
       "        -0.01982455,  0.01508621, -0.02168431, -0.03542211, -0.0158648 ,\n",
       "         0.02479012],\n",
       "       [ 0.10754169,  0.16998624,  0.00840813,  0.01753098, -0.01893818,\n",
       "         0.20861024, -0.38168505,  0.71419096, -0.47260621,  0.17047691,\n",
       "         0.08434057],\n",
       "       [ 0.00573833,  0.14040149,  0.0078027 ,  0.01624478, -0.4782865 ,\n",
       "         0.57595974, -0.04559526, -0.2317974 ,  0.20573761,  0.56396381,\n",
       "        -0.05700889],\n",
       "       [ 0.43579715,  0.44033182,  0.01446721,  0.03712011,  0.19672604,\n",
       "        -0.15676008, -0.51291129, -0.02656271,  0.53193477, -0.04033241,\n",
       "        -0.0544224 ],\n",
       "       [ 0.5208053 ,  0.50553517, -0.03462619, -0.00886885,  0.02741195,\n",
       "        -0.05982393,  0.54575999, -0.14540945, -0.32726085,  0.07674205,\n",
       "         0.18868279],\n",
       "       [-0.20573428, -0.03107947,  0.02672149,  0.02418464,  0.31194925,\n",
       "         0.03721081, -0.06154975, -0.07155325,  0.1327286 ,  0.24132893,\n",
       "         0.87860502]])"
      ]
     },
     "execution_count": 115,
     "metadata": {},
     "output_type": "execute_result"
    }
   ],
   "source": [
    "# print the feature vectors of the first pc:s which together explains more than 80 % of the variance\n",
    "pca_vec = ipca.components_[:6]\n",
    "pca_vec"
   ]
  },
  {
   "cell_type": "markdown",
   "metadata": {},
   "source": [
    "### Plot the sample datapoints after dim reduction using the first two principal components"
   ]
  },
  {
   "cell_type": "code",
   "execution_count": 68,
   "metadata": {},
   "outputs": [],
   "source": [
    "from matplotlib.pyplot import scatter\n",
    "import matplotlib.pyplot as plt\n",
    "%matplotlib inline"
   ]
  },
  {
   "cell_type": "code",
   "execution_count": 117,
   "metadata": {},
   "outputs": [
    {
     "data": {
      "image/png": "[encoded data removed]",
      "text/plain": [
       "<Figure size 432x288 with 1 Axes>"
      ]
     },
     "metadata": {
      "needs_background": "light"
     },
     "output_type": "display_data"
    }
   ],
   "source": [
    "# chunk_clean = df_chunk[selected_feats][df_chunk[',_per_sentence'] != ',_per_sentence'].astype('float32')\n",
    "sample_normalized = (sample.astype('float32') - mean) / std\n",
    "v = sample_normalized.to_numpy() @ pca_vec.T\n",
    "scatter(v[:,0], v[:,1])\n",
    "plt.show()\n"
   ]
  }
 ],
 "metadata": {
  "interpreter": {
   "hash": "2ddbd0b842a978e03471eb3a4ae18fdd24eb8ad76bdab23b363108c4c8f6a59c"
  },
  "kernelspec": {
   "display_name": "Python 3.8.11 64-bit ('ada': conda)",
   "language": "python",
   "name": "python3"
  },
  "language_info": {
   "codemirror_mode": {
    "name": "ipython",
    "version": 3
   },
   "file_extension": ".py",
   "mimetype": "text/x-python",
   "name": "python",
   "nbconvert_exporter": "python",
   "pygments_lexer": "ipython3",
   "version": "3.8.11"
  },
  "orig_nbformat": 4
 },
 "nbformat": 4,
 "nbformat_minor": 2
}
