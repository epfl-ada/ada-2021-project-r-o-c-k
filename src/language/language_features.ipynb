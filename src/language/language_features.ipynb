{
 "cells": [
  {
   "cell_type": "markdown",
   "metadata": {},
   "source": [
    "# Milestone 2"
   ]
  },
  {
   "cell_type": "code",
   "execution_count": 2,
   "metadata": {},
   "outputs": [],
   "source": [
    "import pandas as pd\n",
    "import bz2\n",
    "import json\n",
    "from feature_generation_opt import add_features_to_df"
   ]
  },
  {
   "cell_type": "markdown",
   "metadata": {},
   "source": [
    "## Load processed quotebank data"
   ]
  },
  {
   "cell_type": "code",
   "execution_count": null,
   "metadata": {},
   "outputs": [],
   "source": [
    "years = ['2015', '2016', '2017', '2018', '2019', '2020']\n",
    "data_folder_path = './../../data/'\n",
    "file_prefix_r = 'quotes-'\n",
    "file_suffix_r = '_preprocessed.json.bz2'\n",
    "generate_path = './../../generated/'\n",
    "file_prefix_w = 'quotes-'\n",
    "file_suffix_w = '_with_language_feats.csv'\n",
    "header = False\n",
    "for year in years:\n",
    "    # read the file from year\n",
    "    file_name_r = file_prefix_r + year + file_suffix_r\n",
    "    df_quotes_chunks = pd.read_json(data_folder_path + file_name_r, lines=True, compression='bz2', chunksize = 10000)\n",
    "    for i, df_chunk in enumerate(df_quotes_chunks):\n",
    "        if i == 1: \n",
    "            header = False\n",
    "            \n",
    "        # add language features and append to csv\n",
    "        if i > 75:\n",
    "            print(\"Chunk: \" + str(i))\n",
    "            file_name_w = file_prefix_w + year + file_suffix_w\n",
    "            df_all_features_chunk = add_features_to_df(df_chunk)\n",
    "            df_all_features_chunk.to_csv(generate_path + file_name_w, header = header, mode = 'a')"
   ]
  }
 ],
 "metadata": {
  "interpreter": {
   "hash": "2ddbd0b842a978e03471eb3a4ae18fdd24eb8ad76bdab23b363108c4c8f6a59c"
  },
  "kernelspec": {
   "display_name": "Python 3.8.11 64-bit ('ada': conda)",
   "name": "python3"
  },
  "language_info": {
   "codemirror_mode": {
    "name": "ipython",
    "version": 3
   },
   "file_extension": ".py",
   "mimetype": "text/x-python",
   "name": "python",
   "nbconvert_exporter": "python",
   "pygments_lexer": "ipython3",
   "version": "3.8.11"
  }
 },
 "nbformat": 4,
 "nbformat_minor": 2
}
