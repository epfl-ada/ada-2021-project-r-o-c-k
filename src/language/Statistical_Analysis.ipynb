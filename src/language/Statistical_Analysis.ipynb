{
 "cells": [
  {
   "cell_type": "markdown",
   "id": "a464e4d3-f2a8-412c-9d78-33cd682d2906",
   "metadata": {},
   "source": [
    "# Statistical Analysis "
   ]
  },
  {
   "cell_type": "code",
   "execution_count": 6,
   "id": "3e6f6d02-0feb-4013-b456-416ae2e0039c",
   "metadata": {},
   "outputs": [],
   "source": [
    "#Imports\n",
    "import pandas as pd\n",
    "from sklearn.decomposition import IncrementalPCA\n",
    "from matplotlib.pyplot import scatter\n",
    "import matplotlib.pyplot as plt\n",
    "import seaborn as sns\n",
    "import numpy as np\n",
    "import math\n",
    "import itertools\n",
    "import pycountry_convert as pc\n",
    "from scipy.stats import mannwhitneyu\n",
    "from statistics import median\n",
    "import os\n",
    "%matplotlib inline"
   ]
  },
  {
   "cell_type": "code",
   "execution_count": 2,
   "id": "e6bfdcc6-1ce8-42a5-9b5d-6c56385ffe42",
   "metadata": {},
   "outputs": [],
   "source": [
    "path = '/home/karim/Downloads/Newmerged_data_2020.csv.gzip'  #Modify"
   ]
  },
  {
   "cell_type": "code",
   "execution_count": 7,
   "id": "d4ecdda1-142d-4abb-b712-98551713aa2f",
   "metadata": {},
   "outputs": [
    {
     "data": {
      "text/plain": [
       "(49235, 33)"
      ]
     },
     "execution_count": 7,
     "metadata": {},
     "output_type": "execute_result"
    }
   ],
   "source": [
    "dir_path = '../../'\n",
    "filename = 'sample.csv'\n",
    "sample = pd.read_csv(os.path.join(dir_path, filename))\n",
    "sample.shape"
   ]
  },
  {
   "cell_type": "code",
   "execution_count": 8,
   "id": "06c5bf73-0338-4d52-aaad-718021a43130",
   "metadata": {},
   "outputs": [
    {
     "ename": "NameError",
     "evalue": "name 'samples' is not defined",
     "output_type": "error",
     "traceback": [
      "\u001b[1;31m---------------------------------------------------------------------------\u001b[0m",
      "\u001b[1;31mNameError\u001b[0m                                 Traceback (most recent call last)",
      "\u001b[1;32m~\\AppData\\Local\\Temp/ipykernel_7712/2984669778.py\u001b[0m in \u001b[0;36m<module>\u001b[1;34m\u001b[0m\n\u001b[1;32m----> 1\u001b[1;33m \u001b[0msample\u001b[0m \u001b[1;33m=\u001b[0m \u001b[0mpd\u001b[0m\u001b[1;33m.\u001b[0m\u001b[0mconcat\u001b[0m\u001b[1;33m(\u001b[0m\u001b[0msamples\u001b[0m\u001b[1;33m)\u001b[0m\u001b[1;33m\u001b[0m\u001b[1;33m\u001b[0m\u001b[0m\n\u001b[0m\u001b[0;32m      2\u001b[0m \u001b[0msample\u001b[0m\u001b[1;33m.\u001b[0m\u001b[0mdrop_duplicates\u001b[0m\u001b[1;33m(\u001b[0m\u001b[0minplace\u001b[0m\u001b[1;33m=\u001b[0m\u001b[1;32mTrue\u001b[0m\u001b[1;33m)\u001b[0m\u001b[1;33m\u001b[0m\u001b[1;33m\u001b[0m\u001b[0m\n\u001b[0;32m      3\u001b[0m \u001b[0msample\u001b[0m\u001b[1;33m.\u001b[0m\u001b[0mreset_index\u001b[0m\u001b[1;33m(\u001b[0m\u001b[1;33m)\u001b[0m\u001b[1;33m\u001b[0m\u001b[1;33m\u001b[0m\u001b[0m\n\u001b[0;32m      4\u001b[0m \u001b[0msample\u001b[0m\u001b[1;33m.\u001b[0m\u001b[0mshape\u001b[0m\u001b[1;33m\u001b[0m\u001b[1;33m\u001b[0m\u001b[0m\n\u001b[0;32m      5\u001b[0m \u001b[0msample\u001b[0m\u001b[1;33m.\u001b[0m\u001b[0mhead\u001b[0m\u001b[1;33m(\u001b[0m\u001b[1;36m10\u001b[0m\u001b[1;33m)\u001b[0m\u001b[1;33m\u001b[0m\u001b[1;33m\u001b[0m\u001b[0m\n",
      "\u001b[1;31mNameError\u001b[0m: name 'samples' is not defined"
     ]
    }
   ],
   "source": [
    "sample = pd.concat(samples)\n",
    "sample.drop_duplicates(inplace=True)\n",
    "sample.reset_index()\n",
    "sample.shape\n",
    "sample.head(10)"
   ]
  },
  {
   "cell_type": "code",
   "execution_count": 9,
   "id": "5c045b39-9aa7-43d6-964e-2acb3d197581",
   "metadata": {},
   "outputs": [],
   "source": [
    "selected_feats = ['approx_word_count', 'token_count', 'adj_per_word', 'verb_per_word', 'base_ratio', 'pres_ratio', 'past_ratio', 'pronoun_per_word', 'sentiment']\n",
    "speaker_feats = ['date_of_birth', 'nationality', 'gender', 'occupation', 'academic_degree', 'religion']"
   ]
  },
  {
   "cell_type": "markdown",
   "id": "c2fc49bc-7d88-4fd0-811d-3850e5cb9f4e",
   "metadata": {},
   "source": [
    "## Gender"
   ]
  },
  {
   "cell_type": "code",
   "execution_count": 10,
   "id": "223b6af4-6c64-4e58-b9eb-730de44e87ff",
   "metadata": {},
   "outputs": [
    {
     "ename": "NameError",
     "evalue": "name 'mean_boxplots' is not defined",
     "output_type": "error",
     "traceback": [
      "\u001b[1;31m---------------------------------------------------------------------------\u001b[0m",
      "\u001b[1;31mNameError\u001b[0m                                 Traceback (most recent call last)",
      "\u001b[1;32m~\\AppData\\Local\\Temp/ipykernel_7712/3524567835.py\u001b[0m in \u001b[0;36m<module>\u001b[1;34m\u001b[0m\n\u001b[1;32m----> 1\u001b[1;33m \u001b[0mmean_boxplots\u001b[0m\u001b[1;33m(\u001b[0m\u001b[0msample\u001b[0m\u001b[1;33m,\u001b[0m\u001b[0mplot_by\u001b[0m\u001b[1;33m=\u001b[0m\u001b[1;34m'gender'\u001b[0m\u001b[1;33m,\u001b[0m\u001b[0mfeatures\u001b[0m\u001b[1;33m=\u001b[0m\u001b[0mselected_feats\u001b[0m\u001b[1;33m)\u001b[0m\u001b[1;33m\u001b[0m\u001b[1;33m\u001b[0m\u001b[0m\n\u001b[0m",
      "\u001b[1;31mNameError\u001b[0m: name 'mean_boxplots' is not defined"
     ]
    }
   ],
   "source": [
    "mean_boxplots(sample,plot_by='gender',features=selected_feats)"
   ]
  },
  {
   "cell_type": "markdown",
   "id": "05f359df-0cd6-4245-a0bc-6042558e2418",
   "metadata": {},
   "source": [
    "## Occupation"
   ]
  },
  {
   "cell_type": "code",
   "execution_count": null,
   "id": "63461440-89c9-46d1-8bca-cd91dcf6d390",
   "metadata": {},
   "outputs": [],
   "source": [
    "mean_boxplots(sample,plot_by='occupation',features=selected_feats)"
   ]
  },
  {
   "cell_type": "markdown",
   "id": "24ce5060-65bd-416c-b160-f6234dd7b345",
   "metadata": {},
   "source": [
    "## Academic Degree"
   ]
  },
  {
   "cell_type": "code",
   "execution_count": null,
   "id": "0a4b5535-6a1e-415b-8318-134dcbcf38a7",
   "metadata": {},
   "outputs": [],
   "source": [
    "mean_boxplots(sample,plot_by='academic_degree',features=selected_feats)"
   ]
  },
  {
   "cell_type": "markdown",
   "id": "6afdf7e5-551e-48e6-9255-faffecbb3d19",
   "metadata": {},
   "source": [
    "## Religion"
   ]
  },
  {
   "cell_type": "code",
   "execution_count": null,
   "id": "96aea017-cc91-4662-8967-b28f3681c9f3",
   "metadata": {},
   "outputs": [],
   "source": [
    "mean_boxplots(sample,plot_by='religion',features=selected_feats)"
   ]
  },
  {
   "cell_type": "markdown",
   "id": "ce56ddd5-a381-4ec6-a56c-73cff2381a62",
   "metadata": {},
   "source": [
    "## Generation"
   ]
  },
  {
   "cell_type": "code",
   "execution_count": null,
   "id": "80f5eed6-4083-4ebb-8b8c-f65c8c409904",
   "metadata": {},
   "outputs": [],
   "source": [
    "def GroupBirthDates(sample):\n",
    "    birth = sample.copy()\n",
    "    birth[\"date_of_birth\"] = birth[\"date_of_birth\"].astype(int)\n",
    "    birth[\"date_of_birth\"] = birth[\"date_of_birth\"].apply(lambda x: '30s' if x < 1940 else '50s' if x < 1960 else '70s' if x < 1980  else '90s' if x < 2000 else '00s' if x < 2020 else x)\n",
    "    return birth"
   ]
  },
  {
   "cell_type": "code",
   "execution_count": null,
   "id": "9ca9443d-892d-4e53-83b7-fa442e0dce2a",
   "metadata": {},
   "outputs": [],
   "source": [
    "birth = GroupBirthDates(sample)\n",
    "mean_boxplots(birth,plot_by='date_of_birth',features=selected_feats, order=[\"30s\",\"50s\",\"70s\",\"90s\",\"00s\"])"
   ]
  },
  {
   "cell_type": "markdown",
   "id": "cc036ce1-7b49-430b-aa9e-a8b6fd1a4292",
   "metadata": {},
   "source": [
    "## Continent"
   ]
  },
  {
   "cell_type": "code",
   "execution_count": null,
   "id": "bdf1dc53-745c-47e8-9b74-f14c2243927d",
   "metadata": {},
   "outputs": [],
   "source": [
    "def GroupNationalities(sample):\n",
    "    nat = sample.copy()\n",
    "    for idx,i in enumerate(nat[\"nationality\"]):\n",
    "        try:\n",
    "            nat[\"nationality\"].iloc[idx] = pc.country_alpha2_to_continent_code(pc.country_name_to_country_alpha2(i, cn_name_format=\"default\"))\n",
    "        except:\n",
    "            nat[\"nationality\"].iloc[idx] = None\n",
    "    return nat"
   ]
  },
  {
   "cell_type": "code",
   "execution_count": null,
   "id": "3f549b18-0708-4f68-9557-f3d4057b67e5",
   "metadata": {},
   "outputs": [],
   "source": [
    "countries = GroupNationalities(sample)\n",
    "mean_boxplots(countries,plot_by='nationality',features=selected_feats)"
   ]
  },
  {
   "cell_type": "markdown",
   "id": "40dff4f4-182b-44df-9d34-7da8f34be1a6",
   "metadata": {},
   "source": [
    "## Test the significance of the observed differences"
   ]
  },
  {
   "cell_type": "code",
   "execution_count": 11,
   "id": "5bf6da87-de8f-4921-b5f3-814f5f97fa38",
   "metadata": {},
   "outputs": [],
   "source": [
    "def TestSignificance(df,lexical_features,speaker_features,tresh=0.05, verbose=False):\n",
    "    Grid_max = np.zeros(shape=(len(lexical_features),len(speaker_features)))\n",
    "    Grid_mean = np.zeros(shape=(len(lexical_features),len(speaker_features)))\n",
    "    for idx_i,i in enumerate(speaker_features):                                      #Iterate over\n",
    "        for idx_j,j in enumerate(lexical_features):                                  #Iterate over\n",
    "            unique = df[i].unique()                  #Iterate over the different attributes\n",
    "            unique = unique[unique != np.array(None)]\n",
    "            unique = np.array(unique, dtype=str)\n",
    "            unique = unique[unique != 'nan']\n",
    "            unique = unique[unique != 'Other']\n",
    "            pairs = list(itertools.combinations(unique,2))\n",
    "            min_p = 1\n",
    "            res = []\n",
    "            for k in pairs:\n",
    "                try:\n",
    "                    N, p = mannwhitneyu(df[df[i]==k[0]][j], df[df[i]==k[1]][j])\n",
    "                    if p < min_p:\n",
    "                        min_p = p\n",
    "                        min_x = k[0]\n",
    "                        min_y = k[1]\n",
    "                        param = j\n",
    "                        speak = i\n",
    "                        Grid_max[idx_j,idx_i] = 1/min_p\n",
    "                    res.append(p)   \n",
    "                except:\n",
    "                    print('Test failed for {},{}'.format(i,j))\n",
    "            if verbose:\n",
    "                print('The maximum statistically significant difference with {} in {} is between {} and {}'.format(j,i,k[0],k[1]))\n",
    "                print('The p-value is {}'.format(min_p))\n",
    "            Grid_mean[idx_j,idx_i] = 1/median(res)\n",
    "    return Grid_mean, Grid_max, lexical_features, speaker_features"
   ]
  },
  {
   "cell_type": "code",
   "execution_count": 12,
   "id": "e5829504-2b39-48e2-82e2-9c74bbb7357a",
   "metadata": {},
   "outputs": [
    {
     "ename": "NameError",
     "evalue": "name 'birth' is not defined",
     "output_type": "error",
     "traceback": [
      "\u001b[1;31m---------------------------------------------------------------------------\u001b[0m",
      "\u001b[1;31mNameError\u001b[0m                                 Traceback (most recent call last)",
      "\u001b[1;32m~\\AppData\\Local\\Temp/ipykernel_7712/3276103180.py\u001b[0m in \u001b[0;36m<module>\u001b[1;34m\u001b[0m\n\u001b[0;32m      1\u001b[0m \u001b[0mTest\u001b[0m \u001b[1;33m=\u001b[0m \u001b[0msample\u001b[0m\u001b[1;33m.\u001b[0m\u001b[0mcopy\u001b[0m\u001b[1;33m(\u001b[0m\u001b[1;33m)\u001b[0m\u001b[1;33m\u001b[0m\u001b[1;33m\u001b[0m\u001b[0m\n\u001b[1;32m----> 2\u001b[1;33m \u001b[0mTest\u001b[0m\u001b[1;33m[\u001b[0m\u001b[1;34m\"date_of_birth\"\u001b[0m\u001b[1;33m]\u001b[0m \u001b[1;33m=\u001b[0m \u001b[0mbirth\u001b[0m\u001b[1;33m[\u001b[0m\u001b[1;34m\"date_of_birth\"\u001b[0m\u001b[1;33m]\u001b[0m\u001b[1;33m\u001b[0m\u001b[1;33m\u001b[0m\u001b[0m\n\u001b[0m\u001b[0;32m      3\u001b[0m \u001b[0mTest\u001b[0m\u001b[1;33m[\u001b[0m\u001b[1;34m\"nationality\"\u001b[0m\u001b[1;33m]\u001b[0m \u001b[1;33m=\u001b[0m \u001b[0mcountries\u001b[0m\u001b[1;33m[\u001b[0m\u001b[1;34m\"nationality\"\u001b[0m\u001b[1;33m]\u001b[0m\u001b[1;33m\u001b[0m\u001b[1;33m\u001b[0m\u001b[0m\n\u001b[0;32m      4\u001b[0m \u001b[1;31m#selected_feats = ['sentence_count', 'approx_word_count','adj_per_word','verb_per_word', 'base_ratio', 'pres_ratio',\u001b[0m\u001b[1;33m\u001b[0m\u001b[1;33m\u001b[0m\u001b[1;33m\u001b[0m\u001b[0m\n\u001b[0;32m      5\u001b[0m \u001b[1;31m#       'past_ratio', 'pronoun_per_word', 'self_ratio', 'union_ratio',\u001b[0m\u001b[1;33m\u001b[0m\u001b[1;33m\u001b[0m\u001b[1;33m\u001b[0m\u001b[0m\n",
      "\u001b[1;31mNameError\u001b[0m: name 'birth' is not defined"
     ]
    }
   ],
   "source": [
    "Test = sample.copy()\n",
    "Test[\"date_of_birth\"] = birth[\"date_of_birth\"]\n",
    "Test[\"nationality\"] = countries[\"nationality\"]\n",
    "#selected_feats = ['sentence_count', 'approx_word_count','adj_per_word','verb_per_word', 'base_ratio', 'pres_ratio',\n",
    "#       'past_ratio', 'pronoun_per_word', 'self_ratio', 'union_ratio',\n",
    "#       'other_ratio', 'sentiment']\n",
    "selected_feats = ['sentence_count', '._per_sentence', ',_per_sentence', '!_per_sentence',\n",
    "       '?_per_sentence', ':_per_sentence', ';_per_sentence', 'sign_per_token',\n",
    "       'punctuation_per_sentence', 'approx_word_count', 'token_count',\n",
    "       'adj_per_word', 'ordinal_ratio', 'comparative_ratio',\n",
    "       'superlative_ratio', 'verb_per_word', 'base_ratio', 'pres_ratio',\n",
    "       'past_ratio', 'pronoun_per_word', 'self_ratio', 'union_ratio',\n",
    "       'other_ratio', 'sentiment']\n",
    "speaker_feats = ['date_of_birth','nationality', 'gender', 'occupation', 'academic_degree', 'religion']\n",
    "Grid_mean, Grid_max, lexical_features, speaker_features = TestSignificance(Test,selected_feats,speaker_feats,verbose=True)"
   ]
  },
  {
   "cell_type": "code",
   "execution_count": null,
   "id": "a20c489b-0868-4139-b183-ea0ae39aa320",
   "metadata": {},
   "outputs": [],
   "source": [
    "df = pd.DataFrame(data=np.log(Grid_max), index=selected_feats, columns=speaker_feats)\n",
    "fig, ax = plt.subplots(figsize=(20,10))         # Sample figsize in inches\n",
    "plt.title(\"Heatmap of Median Significancy Score per Lexical and Speaker Feature Combination\")\n",
    "sns.heatmap(df, ax=ax)\n",
    "plt.show()"
   ]
  },
  {
   "cell_type": "code",
   "execution_count": null,
   "id": "8d85b67e-b12d-45c5-9a2f-dba9b9bdcc0a",
   "metadata": {},
   "outputs": [],
   "source": [
    "df = pd.DataFrame(data=np.log(Grid_mean), index=selected_feats, columns=speaker_feats)\n",
    "fig, ax = plt.subplots(figsize=(20,10))         # Sample figsize in inches\n",
    "sns.heatmap(df, ax=ax)\n",
    "plt.title(\"Heatmap of Median Significancy Score per Lexical and Speaker Feature Combination\")\n",
    "plt.show()"
   ]
  }
 ],
 "metadata": {
  "kernelspec": {
   "display_name": "Python 3 (ipykernel)",
   "language": "python",
   "name": "python3"
  },
  "language_info": {
   "codemirror_mode": {
    "name": "ipython",
    "version": 3
   },
   "file_extension": ".py",
   "mimetype": "text/x-python",
   "name": "python",
   "nbconvert_exporter": "python",
   "pygments_lexer": "ipython3",
   "version": "3.7.12"
  }
 },
 "nbformat": 4,
 "nbformat_minor": 5
}
